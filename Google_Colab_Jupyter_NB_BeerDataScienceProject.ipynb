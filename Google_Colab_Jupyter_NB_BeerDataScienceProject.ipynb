{
  "cells": [
    {
      "cell_type": "markdown",
      "metadata": {
        "id": "t7tvJ4gUO-Nv"
      },
      "source": [
        "# Beer Data Science Project"
      ]
    },
    {
      "cell_type": "code",
      "execution_count": null,
      "metadata": {
        "id": "Wtq4HBKsO-Nz"
      },
      "outputs": [],
      "source": [
        "#Importing necessary libraries\n",
        "\n",
        "import pandas as pd\n",
        "import numpy as np\n",
        "import seaborn as sns\n",
        "import matplotlib.pyplot as plt\n",
        "\n",
        "import warnings\n",
        "warnings.filterwarnings('ignore')"
      ]
    },
    {
      "cell_type": "code",
      "execution_count": null,
      "metadata": {
        "id": "fop71DZ9O-N2"
      },
      "outputs": [],
      "source": [
        "# reading the csv file\n",
        "df=pd.read_csv('/content/BeerDataScienceProject.csv',encoding='latin-1')   # to avoid UnicodeDecodeError:  encoding='latin-1' is used"
      ]
    },
    {
      "cell_type": "code",
      "execution_count": null,
      "metadata": {
        "id": "HmBdG7aRO-N3",
        "outputId": "12561808-f878-4acb-f300-5a7182dac039"
      },
      "outputs": [
        {
          "data": {
            "text/html": [
              "<div>\n",
              "<style scoped>\n",
              "    .dataframe tbody tr th:only-of-type {\n",
              "        vertical-align: middle;\n",
              "    }\n",
              "\n",
              "    .dataframe tbody tr th {\n",
              "        vertical-align: top;\n",
              "    }\n",
              "\n",
              "    .dataframe thead th {\n",
              "        text-align: right;\n",
              "    }\n",
              "</style>\n",
              "<table border=\"1\" class=\"dataframe\">\n",
              "  <thead>\n",
              "    <tr style=\"text-align: right;\">\n",
              "      <th></th>\n",
              "      <th>beer_ABV</th>\n",
              "      <th>beer_beerId</th>\n",
              "      <th>beer_brewerId</th>\n",
              "      <th>beer_name</th>\n",
              "      <th>beer_style</th>\n",
              "      <th>review_appearance</th>\n",
              "      <th>review_palette</th>\n",
              "      <th>review_overall</th>\n",
              "      <th>review_taste</th>\n",
              "      <th>review_profileName</th>\n",
              "      <th>review_aroma</th>\n",
              "      <th>review_text</th>\n",
              "      <th>review_time</th>\n",
              "    </tr>\n",
              "  </thead>\n",
              "  <tbody>\n",
              "    <tr>\n",
              "      <th>0</th>\n",
              "      <td>5.0</td>\n",
              "      <td>47986</td>\n",
              "      <td>10325</td>\n",
              "      <td>Sausa Weizen</td>\n",
              "      <td>Hefeweizen</td>\n",
              "      <td>2.5</td>\n",
              "      <td>2.0</td>\n",
              "      <td>1.5</td>\n",
              "      <td>1.5</td>\n",
              "      <td>stcules</td>\n",
              "      <td>1.5</td>\n",
              "      <td>A lot of foam. But a lot. In the smell some ba...</td>\n",
              "      <td>1234817823</td>\n",
              "    </tr>\n",
              "    <tr>\n",
              "      <th>1</th>\n",
              "      <td>6.2</td>\n",
              "      <td>48213</td>\n",
              "      <td>10325</td>\n",
              "      <td>Red Moon</td>\n",
              "      <td>English Strong Ale</td>\n",
              "      <td>3.0</td>\n",
              "      <td>2.5</td>\n",
              "      <td>3.0</td>\n",
              "      <td>3.0</td>\n",
              "      <td>stcules</td>\n",
              "      <td>3.0</td>\n",
              "      <td>Dark red color, light beige foam, average. In ...</td>\n",
              "      <td>1235915097</td>\n",
              "    </tr>\n",
              "    <tr>\n",
              "      <th>2</th>\n",
              "      <td>6.5</td>\n",
              "      <td>48215</td>\n",
              "      <td>10325</td>\n",
              "      <td>Black Horse Black Beer</td>\n",
              "      <td>Foreign / Export Stout</td>\n",
              "      <td>3.0</td>\n",
              "      <td>2.5</td>\n",
              "      <td>3.0</td>\n",
              "      <td>3.0</td>\n",
              "      <td>stcules</td>\n",
              "      <td>3.0</td>\n",
              "      <td>Almost totally black. Beige foam, quite compac...</td>\n",
              "      <td>1235916604</td>\n",
              "    </tr>\n",
              "    <tr>\n",
              "      <th>3</th>\n",
              "      <td>5.0</td>\n",
              "      <td>47969</td>\n",
              "      <td>10325</td>\n",
              "      <td>Sausa Pils</td>\n",
              "      <td>German Pilsener</td>\n",
              "      <td>3.5</td>\n",
              "      <td>3.0</td>\n",
              "      <td>3.0</td>\n",
              "      <td>2.5</td>\n",
              "      <td>stcules</td>\n",
              "      <td>3.0</td>\n",
              "      <td>Golden yellow color. White, compact foam, quit...</td>\n",
              "      <td>1234725145</td>\n",
              "    </tr>\n",
              "    <tr>\n",
              "      <th>4</th>\n",
              "      <td>7.7</td>\n",
              "      <td>64883</td>\n",
              "      <td>1075</td>\n",
              "      <td>Cauldron DIPA</td>\n",
              "      <td>American Double / Imperial IPA</td>\n",
              "      <td>4.0</td>\n",
              "      <td>4.5</td>\n",
              "      <td>4.0</td>\n",
              "      <td>4.0</td>\n",
              "      <td>johnmichaelsen</td>\n",
              "      <td>4.5</td>\n",
              "      <td>According to the website, the style for the Ca...</td>\n",
              "      <td>1293735206</td>\n",
              "    </tr>\n",
              "  </tbody>\n",
              "</table>\n",
              "</div>"
            ],
            "text/plain": [
              "   beer_ABV  beer_beerId  beer_brewerId               beer_name  \\\n",
              "0       5.0        47986          10325            Sausa Weizen   \n",
              "1       6.2        48213          10325                Red Moon   \n",
              "2       6.5        48215          10325  Black Horse Black Beer   \n",
              "3       5.0        47969          10325              Sausa Pils   \n",
              "4       7.7        64883           1075           Cauldron DIPA   \n",
              "\n",
              "                       beer_style  review_appearance  review_palette  \\\n",
              "0                      Hefeweizen                2.5             2.0   \n",
              "1              English Strong Ale                3.0             2.5   \n",
              "2          Foreign / Export Stout                3.0             2.5   \n",
              "3                 German Pilsener                3.5             3.0   \n",
              "4  American Double / Imperial IPA                4.0             4.5   \n",
              "\n",
              "   review_overall  review_taste review_profileName  review_aroma  \\\n",
              "0             1.5           1.5            stcules           1.5   \n",
              "1             3.0           3.0            stcules           3.0   \n",
              "2             3.0           3.0            stcules           3.0   \n",
              "3             3.0           2.5            stcules           3.0   \n",
              "4             4.0           4.0     johnmichaelsen           4.5   \n",
              "\n",
              "                                         review_text  review_time  \n",
              "0  A lot of foam. But a lot. In the smell some ba...   1234817823  \n",
              "1  Dark red color, light beige foam, average. In ...   1235915097  \n",
              "2  Almost totally black. Beige foam, quite compac...   1235916604  \n",
              "3  Golden yellow color. White, compact foam, quit...   1234725145  \n",
              "4  According to the website, the style for the Ca...   1293735206  "
            ]
          },
          "execution_count": 3,
          "metadata": {},
          "output_type": "execute_result"
        }
      ],
      "source": [
        "df.head()"
      ]
    },
    {
      "cell_type": "code",
      "execution_count": null,
      "metadata": {
        "scrolled": true,
        "id": "GgGvDns9O-N5",
        "outputId": "f0bdcc4b-bcfc-4a72-b980-d927d8a166ab"
      },
      "outputs": [
        {
          "data": {
            "text/plain": [
              "(528870, 13)"
            ]
          },
          "execution_count": 4,
          "metadata": {},
          "output_type": "execute_result"
        }
      ],
      "source": [
        "# checking the dimensions of the dataset\n",
        "df.shape"
      ]
    },
    {
      "cell_type": "markdown",
      "metadata": {
        "id": "0GfjJJ60O-N6"
      },
      "source": [
        "There are 5,28,870 rows and 13 columns"
      ]
    },
    {
      "cell_type": "code",
      "execution_count": null,
      "metadata": {
        "id": "opSSnraTO-N7",
        "outputId": "9bbfa9e2-aecd-443f-9e17-939f51b16792"
      },
      "outputs": [
        {
          "data": {
            "text/plain": [
              "Index(['beer_ABV', 'beer_beerId', 'beer_brewerId', 'beer_name', 'beer_style',\n",
              "       'review_appearance', 'review_palette', 'review_overall', 'review_taste',\n",
              "       'review_profileName', 'review_aroma', 'review_text', 'review_time'],\n",
              "      dtype='object')"
            ]
          },
          "execution_count": 5,
          "metadata": {},
          "output_type": "execute_result"
        }
      ],
      "source": [
        "# checking the column names\n",
        "df.columns"
      ]
    },
    {
      "cell_type": "markdown",
      "metadata": {
        "id": "UkoBGTXPO-N8"
      },
      "source": [
        "#### Lets Learn more about the columns"
      ]
    },
    {
      "cell_type": "markdown",
      "metadata": {
        "id": "5uyIGzHrO-N-"
      },
      "source": [
        "* beer_ABV means= ABV means Alcohol By Volume\n",
        "* beer_beerId = its the beer id\n",
        "* beer_brewerId =It is the id of a place where beer is made commercially.\n",
        "* beer_name= it is  the name of the beer\n",
        "* beer_style= Beer styles differentiate and categorise beers by colour, flavour, strength, ingredients, production\n",
        "* review_appearance = How the beer looks in color\n",
        "* review_palette  = Rating based on how the beer interacts with the palate \n",
        "* review_overall = Overall review\n",
        "* review_taste =  Rating based on the taste of beer\n",
        "* review_profileName =Name of the person who reviewed the beer\n",
        "* review_aroma = Rating based on the smell of the review\n",
        "* review_text = reviews\n",
        "* review_time = timestamp when the review was recorded\n"
      ]
    },
    {
      "cell_type": "markdown",
      "metadata": {
        "id": "qWSKVTXTO-N_"
      },
      "source": [
        "### Lets explore more about Dataset"
      ]
    },
    {
      "cell_type": "markdown",
      "metadata": {
        "id": "3uE78neqO-OA"
      },
      "source": [
        "###### First exploring the Numerical Columns\n"
      ]
    },
    {
      "cell_type": "code",
      "execution_count": null,
      "metadata": {
        "id": "wcqDWzt2O-OB",
        "outputId": "a38f09d1-b2cf-4b58-9aed-974d6f2b7831"
      },
      "outputs": [
        {
          "name": "stdout",
          "output_type": "stream",
          "text": [
            "Minimum beer_ABV is 0.01\n",
            "Maximum beer_ABV is 57.7\n",
            "5.00     38935\n",
            "5.50     22213\n",
            "9.00     21319\n",
            "8.00     20831\n",
            "6.00     20725\n",
            "         ...  \n",
            "19.20        1\n",
            "30.86        1\n",
            "6.95         1\n",
            "5.47         1\n",
            "57.70        1\n",
            "Name: beer_ABV, Length: 283, dtype: int64\n"
          ]
        },
        {
          "data": {
            "image/png": "[encoded data removed]",
            "text/plain": [
              "<Figure size 432x288 with 1 Axes>"
            ]
          },
          "metadata": {
            "needs_background": "light"
          },
          "output_type": "display_data"
        }
      ],
      "source": [
        "df['beer_ABV'].plot.hist()\n",
        "print('Minimum beer_ABV is',min(df['beer_ABV']))\n",
        "print('Maximum beer_ABV is',max(df['beer_ABV']))\n",
        "print(df['beer_ABV'].value_counts())"
      ]
    },
    {
      "cell_type": "markdown",
      "metadata": {
        "id": "EangwYrlO-OC"
      },
      "source": [
        "* Here Minimum Beer_ABV recorded is 0.01 and\n",
        "\n",
        "* maximum recorded is 57.7,\n",
        "* maximum Beer_ABVV lies between the range of 0 to 10"
      ]
    },
    {
      "cell_type": "code",
      "execution_count": null,
      "metadata": {
        "id": "CweKrkrwO-OD",
        "outputId": "46cc3f83-62b3-4cd6-d48e-291dc35d79de"
      },
      "outputs": [
        {
          "name": "stdout",
          "output_type": "stream",
          "text": [
            "Minimum beer_beerId is 3\n",
            "Maximum beer_beerIdis 77310\n",
            "1904     3000\n",
            "276      2587\n",
            "11757    2502\n",
            "2671     2492\n",
            "34       2483\n",
            "         ... \n",
            "25396       1\n",
            "37528       1\n",
            "17200       1\n",
            "76573       1\n",
            "68831       1\n",
            "Name: beer_beerId, Length: 20200, dtype: int64\n"
          ]
        },
        {
          "data": {
            "image/png": "[encoded data removed]",
            "text/plain": [
              "<Figure size 432x288 with 1 Axes>"
            ]
          },
          "metadata": {
            "needs_background": "light"
          },
          "output_type": "display_data"
        }
      ],
      "source": [
        "df['beer_beerId'].plot.hist()\n",
        "print('Minimum beer_beerId is',min(df['beer_beerId']))\n",
        "print('Maximum beer_beerIdis',max(df['beer_beerId']))\n",
        "print(df['beer_beerId'].value_counts())"
      ]
    },
    {
      "cell_type": "markdown",
      "metadata": {
        "id": "UExFl_HFO-OD"
      },
      "source": [
        "\n",
        "\n",
        "* Minimum beer_beerId is 3\n",
        "* Maximum beer_beerIdis 77310\n",
        "* Maximum beer_beerId ranges between 0 to 10,000\n",
        "* there are 20,200 unique beer_beerId"
      ]
    },
    {
      "cell_type": "code",
      "execution_count": null,
      "metadata": {
        "id": "LU2TLaffO-OE",
        "outputId": "b677acff-31d9-4ba2-c22c-00dbdbb51609"
      },
      "outputs": [
        {
          "name": "stdout",
          "output_type": "stream",
          "text": [
            "Minimum beer_brewerId is 1\n",
            "Maximum beer_brewerId s 27980\n",
            "35       39444\n",
            "140      28751\n",
            "132      24083\n",
            "1199     20004\n",
            "3818     15868\n",
            "         ...  \n",
            "10288        1\n",
            "15194        1\n",
            "9264         1\n",
            "13030        1\n",
            "20634        1\n",
            "Name: beer_brewerId, Length: 1803, dtype: int64\n"
          ]
        },
        {
          "data": {
            "image/png": "[encoded data removed]",
            "text/plain": [
              "<Figure size 432x288 with 1 Axes>"
            ]
          },
          "metadata": {
            "needs_background": "light"
          },
          "output_type": "display_data"
        }
      ],
      "source": [
        "df['beer_brewerId'].plot.hist()\n",
        "print('Minimum beer_brewerId is',min(df['beer_brewerId']))\n",
        "print('Maximum beer_brewerId s',max(df['beer_brewerId']))\n",
        "print(df['beer_brewerId'].value_counts())"
      ]
    },
    {
      "cell_type": "markdown",
      "metadata": {
        "id": "X-r5E14rO-OF"
      },
      "source": [
        "\n",
        "\n",
        "* Minimum beer_brewerId is 1\n",
        "* Maximum beer_brewerId s 27980\n",
        "* Maximum beer_brewerId ranges between 0 to 5000\n",
        "* there are 1803 unique beer_brewerId"
      ]
    },
    {
      "cell_type": "code",
      "execution_count": null,
      "metadata": {
        "id": "4tv8EjDbO-OF",
        "outputId": "84c339eb-7cd8-48b2-f326-6b203dea1349"
      },
      "outputs": [
        {
          "name": "stdout",
          "output_type": "stream",
          "text": [
            "Minimum review_appearance is 0.0\n",
            "Maximum review_appearance is 5.0\n",
            "4.0    226081\n",
            "3.5    103728\n",
            "4.5    100536\n",
            "3.0     53194\n",
            "5.0     23107\n",
            "2.5     12258\n",
            "2.0      7513\n",
            "1.5      1616\n",
            "1.0       834\n",
            "0.0         3\n",
            "Name: review_appearance, dtype: int64\n"
          ]
        },
        {
          "data": {
            "image/png": "[encoded data removed]",
            "text/plain": [
              "<Figure size 432x288 with 1 Axes>"
            ]
          },
          "metadata": {
            "needs_background": "light"
          },
          "output_type": "display_data"
        }
      ],
      "source": [
        "df['review_appearance'].plot.hist()\n",
        "print('Minimum review_appearance is',min(df['review_appearance']))\n",
        "print('Maximum review_appearance is',max(df['review_appearance']))\n",
        "print(df['review_appearance'].value_counts())"
      ]
    },
    {
      "cell_type": "markdown",
      "metadata": {
        "id": "oyo6eymjO-OG"
      },
      "source": [
        "\n",
        "\n",
        "* Minimum review_appearance is 0.0\n",
        "* Maximum review_appearance is 5.0\n",
        "* Maximum review_appearance ranges between 4 to 5"
      ]
    },
    {
      "cell_type": "code",
      "execution_count": null,
      "metadata": {
        "id": "h-l8XU_uO-OH",
        "outputId": "4135f283-b94c-41fa-d8bc-7d109ced9147"
      },
      "outputs": [
        {
          "name": "stdout",
          "output_type": "stream",
          "text": [
            "Minimum review_palette is 1.0\n",
            "Maximum review_palette s 5.0\n",
            "4.0    188463\n",
            "3.5    120100\n",
            "4.5     93923\n",
            "3.0     64623\n",
            "5.0     22320\n",
            "2.5     20936\n",
            "2.0     13024\n",
            "1.5      3579\n",
            "1.0      1902\n",
            "Name: review_palette, dtype: int64\n"
          ]
        },
        {
          "data": {
            "image/png": "[encoded data removed]",
            "text/plain": [
              "<Figure size 432x288 with 1 Axes>"
            ]
          },
          "metadata": {
            "needs_background": "light"
          },
          "output_type": "display_data"
        }
      ],
      "source": [
        "df['review_palette'].plot.hist()\n",
        "print('Minimum review_palette is',min(df['review_palette']))\n",
        "print('Maximum review_palette s',max(df['review_palette']))\n",
        "print(df['review_palette'].value_counts())"
      ]
    },
    {
      "cell_type": "markdown",
      "metadata": {
        "id": "PKQT3EM6O-OI"
      },
      "source": [
        "\n",
        "\n",
        "* Minimum review_palette is 1.0\n",
        "* Maximum review_palette is 5.0\n",
        "* Maximum review_palette ranges between 3.5 to 4.0"
      ]
    },
    {
      "cell_type": "code",
      "execution_count": null,
      "metadata": {
        "id": "2TW820AvO-OI",
        "outputId": "32f88f80-6977-42b2-b70d-5f04c67a0053"
      },
      "outputs": [
        {
          "name": "stdout",
          "output_type": "stream",
          "text": [
            "Minimum review_overall is 0.0\n",
            "Maximum review_overall s 5.0\n",
            "4.0    196544\n",
            "4.5    110928\n",
            "3.5     98901\n",
            "3.0     53707\n",
            "5.0     31028\n",
            "2.5     18539\n",
            "2.0     11931\n",
            "1.5      3996\n",
            "1.0      3293\n",
            "0.0         3\n",
            "Name: review_overall, dtype: int64\n"
          ]
        },
        {
          "data": {
            "image/png": "[encoded data removed]",
            "text/plain": [
              "<Figure size 432x288 with 1 Axes>"
            ]
          },
          "metadata": {
            "needs_background": "light"
          },
          "output_type": "display_data"
        }
      ],
      "source": [
        "df['review_overall'].plot.hist()\n",
        "print('Minimum review_overall is',min(df['review_overall']))\n",
        "print('Maximum review_overall s',max(df['review_overall']))\n",
        "print(df['review_overall'].value_counts())"
      ]
    },
    {
      "cell_type": "markdown",
      "metadata": {
        "id": "RyWKx6b5O-OJ"
      },
      "source": [
        "\n",
        "\n",
        "*  Minimum review_overall is 0.0\n",
        "*  Maximum review_overall is 5.0\n",
        "*  Maximum review_overall ranges between 4 to 5"
      ]
    },
    {
      "cell_type": "code",
      "execution_count": null,
      "metadata": {
        "id": "gjwnsL0iO-OK",
        "outputId": "e9591335-b3fe-44fb-ee02-65cf7b70d39a"
      },
      "outputs": [
        {
          "name": "stdout",
          "output_type": "stream",
          "text": [
            "Minimum review_taste is 1.0\n",
            "Maximum review_taste s 5.0\n",
            "4.0    205951\n",
            "3.5    110996\n",
            "4.5     86918\n",
            "3.0     66954\n",
            "5.0     21648\n",
            "2.5     19647\n",
            "2.0     11732\n",
            "1.5      3184\n",
            "1.0      1840\n",
            "Name: review_taste, dtype: int64\n"
          ]
        },
        {
          "data": {
            "image/png": "[encoded data removed]",
            "text/plain": [
              "<Figure size 432x288 with 1 Axes>"
            ]
          },
          "metadata": {
            "needs_background": "light"
          },
          "output_type": "display_data"
        }
      ],
      "source": [
        "df['review_taste'].plot.hist()\n",
        "print('Minimum review_taste is',min(df['review_taste']))\n",
        "print('Maximum review_taste s',max(df['review_taste']))\n",
        "print(df['review_taste'].value_counts())"
      ]
    },
    {
      "cell_type": "markdown",
      "metadata": {
        "id": "zjHS6VHFO-OK"
      },
      "source": [
        "\n",
        "\n",
        "* Minimum review_taste is 1.0\n",
        "* Maximum review_taste s 5.0\n",
        "* Maximum review_taste ranges between 3.75 to 4 or 4.25"
      ]
    },
    {
      "cell_type": "code",
      "execution_count": null,
      "metadata": {
        "id": "QJqBZOSFO-OL",
        "outputId": "0f01f134-b78f-4cb7-9392-26fdbb050542"
      },
      "outputs": [
        {
          "name": "stdout",
          "output_type": "stream",
          "text": [
            "Minimum review_aroma is 1.0\n",
            "Maximum review_aroma s 5.0\n",
            "4.0    182294\n",
            "4.5    116460\n",
            "3.5    106232\n",
            "3.0     53495\n",
            "5.0     29031\n",
            "2.5     21060\n",
            "2.0     13013\n",
            "1.5      4446\n",
            "1.0      2839\n",
            "Name: review_aroma, dtype: int64\n"
          ]
        },
        {
          "data": {
            "image/png": "[encoded data removed]",
            "text/plain": [
              "<Figure size 432x288 with 1 Axes>"
            ]
          },
          "metadata": {
            "needs_background": "light"
          },
          "output_type": "display_data"
        }
      ],
      "source": [
        "df['review_aroma'].plot.hist()\n",
        "print('Minimum review_aroma is',min(df['review_aroma']))\n",
        "print('Maximum review_aroma s',max(df['review_aroma']))\n",
        "print(df['review_aroma'].value_counts())"
      ]
    },
    {
      "cell_type": "markdown",
      "metadata": {
        "id": "-QKtFbRWO-OL"
      },
      "source": [
        "\n",
        "\n",
        "*  Minimum review_aroma is 1.0\n",
        "*  Maximum review_aroma s 5.0\n",
        "*  Maximum review_aroma  ranges between 3.75 to 4 or 4.25"
      ]
    },
    {
      "cell_type": "markdown",
      "metadata": {
        "id": "SPaYRlisO-OL"
      },
      "source": [
        "### Now Plotting Categorical Columns"
      ]
    },
    {
      "cell_type": "code",
      "execution_count": null,
      "metadata": {
        "id": "9TzFAWk8O-OM",
        "outputId": "966eedc6-75aa-46fd-c535-082d055576e3"
      },
      "outputs": [
        {
          "data": {
            "text/plain": [
              "beer_ABV              float64\n",
              "beer_beerId             int64\n",
              "beer_brewerId           int64\n",
              "beer_name              object\n",
              "beer_style             object\n",
              "review_appearance     float64\n",
              "review_palette        float64\n",
              "review_overall        float64\n",
              "review_taste          float64\n",
              "review_profileName     object\n",
              "review_aroma          float64\n",
              "review_text            object\n",
              "review_time             int64\n",
              "dtype: object"
            ]
          },
          "execution_count": 14,
          "metadata": {},
          "output_type": "execute_result"
        }
      ],
      "source": [
        "df.dtypes"
      ]
    },
    {
      "cell_type": "code",
      "execution_count": null,
      "metadata": {
        "id": "5A8uO2x9O-OM",
        "outputId": "b78333c1-90a5-405a-cc74-80066c94a332"
      },
      "outputs": [
        {
          "data": {
            "image/png": "[encoded data removed]",
            "text/plain": [
              "<Figure size 1584x504 with 1 Axes>"
            ]
          },
          "metadata": {
            "needs_background": "light"
          },
          "output_type": "display_data"
        },
        {
          "name": "stdout",
          "output_type": "stream",
          "text": [
            "Sierra Nevada Celebration Ale                 3000\n",
            "Sierra Nevada Pale Ale                        2587\n",
            "Founders Breakfast Stout                      2502\n",
            "Sierra Nevada Bigfoot Barleywine Style Ale    2492\n",
            "La Fin Du Monde                               2483\n",
            "                                              ... \n",
            "Olde Horny Brew                                  1\n",
            "Silver State Saison                              1\n",
            "The Dankness                                     1\n",
            "Etna Classic Gold Pale Ale                       1\n",
            "Elmwood Cabin Fever                              1\n",
            "Name: beer_name, Length: 18339, dtype: int64\n"
          ]
        }
      ],
      "source": [
        "plt.figure(figsize=(22,7))\n",
        "p=df['beer_name'].value_counts().head(50).plot.bar()\n",
        "plt.subplots_adjust(bottom=0.25)\n",
        "p.set_xticklabels(p.get_xticklabels(),rotation=90)\n",
        "plt.show()\n",
        "print(df['beer_name'].value_counts())"
      ]
    },
    {
      "cell_type": "markdown",
      "metadata": {
        "id": "RuuSp3cLO-ON"
      },
      "source": [
        "* There are total 18339 different names of beer observed in the dataset\n",
        "* maximum beer consumed by user is Sierra Nevada Celebration Ale            "
      ]
    },
    {
      "cell_type": "code",
      "execution_count": null,
      "metadata": {
        "id": "ATQBc7ZVO-ON",
        "outputId": "52790021-3ba2-4937-9ab9-b07d4a57b6e5"
      },
      "outputs": [
        {
          "data": {
            "image/png": "[encoded data removed]",
            "text/plain": [
              "<Figure size 1584x504 with 1 Axes>"
            ]
          },
          "metadata": {
            "needs_background": "light"
          },
          "output_type": "display_data"
        },
        {
          "data": {
            "text/plain": [
              "American IPA                        43369\n",
              "American Double / Imperial IPA      26106\n",
              "American Double / Imperial Stout    23354\n",
              "American Pale Ale (APA)             20520\n",
              "American Amber / Red Ale            18731\n",
              "                                    ...  \n",
              "Sahti                                 139\n",
              "Kvass                                 118\n",
              "Gose                                   90\n",
              "Happoshu                               55\n",
              "Faro                                   53\n",
              "Name: beer_style, Length: 104, dtype: int64"
            ]
          },
          "execution_count": 16,
          "metadata": {},
          "output_type": "execute_result"
        }
      ],
      "source": [
        "plt.figure(figsize=(22,7))\n",
        "p=sns.countplot(df['beer_style'])\n",
        "plt.subplots_adjust(bottom=0.25)\n",
        "p.set_xticklabels(p.get_xticklabels(),rotation=90)\n",
        "plt.show()\n",
        "df['beer_style'].value_counts()"
      ]
    },
    {
      "cell_type": "markdown",
      "metadata": {
        "id": "h1XtwWiZO-OO"
      },
      "source": [
        "* There are total 104 different styles of beer observed in the dataset\n",
        "\n",
        "* Maximum beer style consumed by users are 'American IPA '\n"
      ]
    },
    {
      "cell_type": "code",
      "execution_count": null,
      "metadata": {
        "id": "AMcYzLb9O-OO",
        "outputId": "631b028c-26c5-46e4-9797-4bc54619f404"
      },
      "outputs": [
        {
          "name": "stdout",
          "output_type": "stream",
          "text": [
            "northyorksammy      1858\n",
            "mikesgroove         1403\n",
            "BuckeyeNation       1298\n",
            "womencantsail       1238\n",
            "Phyl21ca            1164\n",
            "                    ... \n",
            "curlykate              1\n",
            "Monk0383               1\n",
            "sequenceman            1\n",
            "microwavabledish       1\n",
            "porbeagle7             1\n",
            "Name: review_profileName, Length: 22800, dtype: int64\n"
          ]
        },
        {
          "data": {
            "image/png": "[encoded data removed]",
            "text/plain": [
              "<Figure size 1584x504 with 1 Axes>"
            ]
          },
          "metadata": {
            "needs_background": "light"
          },
          "output_type": "display_data"
        }
      ],
      "source": [
        "print(df['review_profileName'].value_counts())\n",
        "plt.figure(figsize=(22,7))\n",
        "p=df['review_profileName'].value_counts().head(50).plot.bar()\n",
        "plt.subplots_adjust(bottom=0.25)\n",
        "p.set_xticklabels(p.get_xticklabels(),rotation=90)\n",
        "plt.show()\n"
      ]
    },
    {
      "cell_type": "markdown",
      "metadata": {
        "id": "gkRFeJxJO-OP"
      },
      "source": [
        "* There are total 22,800 consumers of beer who reviewed the beer observed in the dataset\n",
        "\n",
        "* Maximum beer reviews are given  'northyorksammy'"
      ]
    },
    {
      "cell_type": "markdown",
      "metadata": {
        "id": "IMxHGb3jO-OP"
      },
      "source": [
        "### The year column now"
      ]
    },
    {
      "cell_type": "markdown",
      "metadata": {
        "id": "nJQSQAPBO-OQ"
      },
      "source": [
        "The review time present in the dataset is a timestamp for all the further calcuations we need to extarct the year from the dataframe"
      ]
    },
    {
      "cell_type": "code",
      "execution_count": null,
      "metadata": {
        "id": "fuJLdZaJO-OQ"
      },
      "outputs": [],
      "source": [
        "\n",
        "from datetime import datetime\n",
        "year=[]\n",
        "for i in df['review_time']:\n",
        "    timestamp=i\n",
        "    years=datetime.fromtimestamp(timestamp).year\n",
        "    year.append(years)\n",
        "    "
      ]
    },
    {
      "cell_type": "code",
      "execution_count": null,
      "metadata": {
        "id": "Z-10E-D-O-OQ"
      },
      "outputs": [],
      "source": [
        "df['year']=year"
      ]
    },
    {
      "cell_type": "code",
      "execution_count": null,
      "metadata": {
        "id": "BRSUlw9oO-OR",
        "outputId": "f29f13f6-e0f9-4fc9-8843-9b13f2fe6a66"
      },
      "outputs": [
        {
          "data": {
            "text/plain": [
              "2011    110843\n",
              "2010     93776\n",
              "2009     83567\n",
              "2008     69086\n",
              "2007     46478\n",
              "2006     43070\n",
              "2005     29422\n",
              "2004     22904\n",
              "2003     18174\n",
              "2002      7577\n",
              "2012      3291\n",
              "2001       601\n",
              "2000        33\n",
              "1999        25\n",
              "1998        23\n",
              "Name: year, dtype: int64"
            ]
          },
          "execution_count": 20,
          "metadata": {},
          "output_type": "execute_result"
        }
      ],
      "source": [
        "df['year'].value_counts()"
      ]
    },
    {
      "cell_type": "code",
      "execution_count": null,
      "metadata": {
        "id": "Uh8d-KOfO-OR",
        "outputId": "c801d05d-8e3d-4dc8-d2d9-c9df62a4e1b6"
      },
      "outputs": [
        {
          "name": "stdout",
          "output_type": "stream",
          "text": [
            "2011    110843\n",
            "2010     93776\n",
            "2009     83567\n",
            "2008     69086\n",
            "2007     46478\n",
            "2006     43070\n",
            "2005     29422\n",
            "2004     22904\n",
            "2003     18174\n",
            "2002      7577\n",
            "2012      3291\n",
            "2001       601\n",
            "2000        33\n",
            "1999        25\n",
            "1998        23\n",
            "Name: year, dtype: int64\n"
          ]
        },
        {
          "data": {
            "image/png": "[encoded data removed]",
            "text/plain": [
              "<Figure size 1584x288 with 1 Axes>"
            ]
          },
          "metadata": {
            "needs_background": "light"
          },
          "output_type": "display_data"
        }
      ],
      "source": [
        "print(df['year'].value_counts())\n",
        "plt.figure(figsize=(22,4))\n",
        "p=df['year'].value_counts().head(50).plot.bar()\n",
        "p.set_xticklabels(p.get_xticklabels(),rotation=90)\n",
        "plt.show()\n"
      ]
    },
    {
      "cell_type": "markdown",
      "metadata": {
        "id": "2MsV6AH1O-OS"
      },
      "source": [
        "* Maximum reviews are collected during the year 2011, \n",
        "* from 1998 the reviews are gradually increasing"
      ]
    },
    {
      "cell_type": "markdown",
      "metadata": {
        "id": "zVQBWT3BO-OS"
      },
      "source": [
        "### Checking Null Values"
      ]
    },
    {
      "cell_type": "code",
      "execution_count": null,
      "metadata": {
        "id": "800NQ7P2O-OS",
        "outputId": "72fa9b33-3cc5-472d-afc1-cc8c65c731cc"
      },
      "outputs": [
        {
          "data": {
            "text/plain": [
              "beer_ABV              20280\n",
              "beer_beerId               0\n",
              "beer_brewerId             0\n",
              "beer_name                 0\n",
              "beer_style                0\n",
              "review_appearance         0\n",
              "review_palette            0\n",
              "review_overall            0\n",
              "review_taste              0\n",
              "review_profileName      115\n",
              "review_aroma              0\n",
              "review_text             119\n",
              "review_time               0\n",
              "year                      0\n",
              "dtype: int64"
            ]
          },
          "execution_count": 22,
          "metadata": {},
          "output_type": "execute_result"
        }
      ],
      "source": [
        "df.isnull().sum()"
      ]
    },
    {
      "cell_type": "code",
      "execution_count": null,
      "metadata": {
        "id": "ZFRMvQRYO-OT",
        "outputId": "a5e6a227-188c-4fa9-b0f0-2ca6a002e1bc"
      },
      "outputs": [
        {
          "data": {
            "text/plain": [
              "<AxesSubplot:>"
            ]
          },
          "execution_count": 23,
          "metadata": {},
          "output_type": "execute_result"
        },
        {
          "data": {
            "image/png": "[encoded data removed]",
            "text/plain": [
              "<Figure size 432x288 with 2 Axes>"
            ]
          },
          "metadata": {
            "needs_background": "light"
          },
          "output_type": "display_data"
        }
      ],
      "source": [
        "sns.heatmap(df.isnull())"
      ]
    },
    {
      "cell_type": "code",
      "execution_count": null,
      "metadata": {
        "id": "HcJv7XCLO-OT",
        "outputId": "54d819ef-7449-4b31-b3b1-3d7b770b4f84"
      },
      "outputs": [
        {
          "data": {
            "text/plain": [
              "0.03834590731181576"
            ]
          },
          "execution_count": 24,
          "metadata": {},
          "output_type": "execute_result"
        }
      ],
      "source": [
        "df.isna().sum().max()/len(df)"
      ]
    },
    {
      "cell_type": "code",
      "execution_count": null,
      "metadata": {
        "id": "BbRe4YiNO-OT"
      },
      "outputs": [],
      "source": [
        ""
      ]
    },
    {
      "cell_type": "markdown",
      "metadata": {
        "id": "2sAQWMU9O-OU"
      },
      "source": [
        "#### 3.83 % of data is null so removing it won't affect much but as we are not commanded to delete anything"
      ]
    },
    {
      "cell_type": "markdown",
      "metadata": {
        "id": "d-hNwko8O-OU"
      },
      "source": [
        "Replacing all the null values with mean and mode"
      ]
    },
    {
      "cell_type": "code",
      "execution_count": null,
      "metadata": {
        "id": "77M8B-VQO-OU",
        "outputId": "3cd4e86a-ab66-4798-96d5-750de288ffae"
      },
      "outputs": [
        {
          "data": {
            "text/plain": [
              "beer_ABV              0\n",
              "beer_beerId           0\n",
              "beer_brewerId         0\n",
              "beer_name             0\n",
              "beer_style            0\n",
              "review_appearance     0\n",
              "review_palette        0\n",
              "review_overall        0\n",
              "review_taste          0\n",
              "review_profileName    0\n",
              "review_aroma          0\n",
              "review_text           0\n",
              "review_time           0\n",
              "year                  0\n",
              "dtype: int64"
            ]
          },
          "execution_count": 25,
          "metadata": {},
          "output_type": "execute_result"
        }
      ],
      "source": [
        "df['beer_ABV']=df['beer_ABV'].replace(np.NaN,df['beer_ABV'].mean())\n",
        "df['review_profileName']=df['review_profileName'].fillna(df['review_profileName'].mode)\n",
        "df['review_text']=df['review_text'].fillna(df['review_text'].mode)\n",
        "df.isnull().sum()"
      ]
    },
    {
      "cell_type": "markdown",
      "metadata": {
        "id": "Vvk-gAW5O-OV"
      },
      "source": [
        "### Statistical Description"
      ]
    },
    {
      "cell_type": "code",
      "execution_count": null,
      "metadata": {
        "id": "7tRy4ekGO-OV",
        "outputId": "5abd1e32-4795-4594-eab3-769b7e35c4d9"
      },
      "outputs": [
        {
          "data": {
            "text/html": [
              "<div>\n",
              "<style scoped>\n",
              "    .dataframe tbody tr th:only-of-type {\n",
              "        vertical-align: middle;\n",
              "    }\n",
              "\n",
              "    .dataframe tbody tr th {\n",
              "        vertical-align: top;\n",
              "    }\n",
              "\n",
              "    .dataframe thead th {\n",
              "        text-align: right;\n",
              "    }\n",
              "</style>\n",
              "<table border=\"1\" class=\"dataframe\">\n",
              "  <thead>\n",
              "    <tr style=\"text-align: right;\">\n",
              "      <th></th>\n",
              "      <th>beer_ABV</th>\n",
              "      <th>beer_beerId</th>\n",
              "      <th>beer_brewerId</th>\n",
              "      <th>beer_name</th>\n",
              "      <th>beer_style</th>\n",
              "      <th>review_appearance</th>\n",
              "      <th>review_palette</th>\n",
              "      <th>review_overall</th>\n",
              "      <th>review_taste</th>\n",
              "      <th>review_profileName</th>\n",
              "      <th>review_aroma</th>\n",
              "      <th>review_text</th>\n",
              "      <th>review_time</th>\n",
              "      <th>year</th>\n",
              "    </tr>\n",
              "  </thead>\n",
              "  <tbody>\n",
              "    <tr>\n",
              "      <th>count</th>\n",
              "      <td>528870.000000</td>\n",
              "      <td>528870.000000</td>\n",
              "      <td>528870.000000</td>\n",
              "      <td>528870</td>\n",
              "      <td>528870</td>\n",
              "      <td>528870.000000</td>\n",
              "      <td>528870.000000</td>\n",
              "      <td>528870.000000</td>\n",
              "      <td>528870.000000</td>\n",
              "      <td>528870</td>\n",
              "      <td>528870.000000</td>\n",
              "      <td>528870</td>\n",
              "      <td>5.288700e+05</td>\n",
              "      <td>528870.000000</td>\n",
              "    </tr>\n",
              "    <tr>\n",
              "      <th>unique</th>\n",
              "      <td>NaN</td>\n",
              "      <td>NaN</td>\n",
              "      <td>NaN</td>\n",
              "      <td>18339</td>\n",
              "      <td>104</td>\n",
              "      <td>NaN</td>\n",
              "      <td>NaN</td>\n",
              "      <td>NaN</td>\n",
              "      <td>NaN</td>\n",
              "      <td>22801</td>\n",
              "      <td>NaN</td>\n",
              "      <td>528372</td>\n",
              "      <td>NaN</td>\n",
              "      <td>NaN</td>\n",
              "    </tr>\n",
              "    <tr>\n",
              "      <th>top</th>\n",
              "      <td>NaN</td>\n",
              "      <td>NaN</td>\n",
              "      <td>NaN</td>\n",
              "      <td>Sierra Nevada Celebration Ale</td>\n",
              "      <td>American IPA</td>\n",
              "      <td>NaN</td>\n",
              "      <td>NaN</td>\n",
              "      <td>NaN</td>\n",
              "      <td>NaN</td>\n",
              "      <td>northyorksammy</td>\n",
              "      <td>NaN</td>\n",
              "      <td>&lt;bound method Series.mode of 0         A lot o...</td>\n",
              "      <td>NaN</td>\n",
              "      <td>NaN</td>\n",
              "    </tr>\n",
              "    <tr>\n",
              "      <th>freq</th>\n",
              "      <td>NaN</td>\n",
              "      <td>NaN</td>\n",
              "      <td>NaN</td>\n",
              "      <td>3000</td>\n",
              "      <td>43369</td>\n",
              "      <td>NaN</td>\n",
              "      <td>NaN</td>\n",
              "      <td>NaN</td>\n",
              "      <td>NaN</td>\n",
              "      <td>1858</td>\n",
              "      <td>NaN</td>\n",
              "      <td>119</td>\n",
              "      <td>NaN</td>\n",
              "      <td>NaN</td>\n",
              "    </tr>\n",
              "    <tr>\n",
              "      <th>mean</th>\n",
              "      <td>7.017442</td>\n",
              "      <td>22098.466016</td>\n",
              "      <td>2598.423429</td>\n",
              "      <td>NaN</td>\n",
              "      <td>NaN</td>\n",
              "      <td>3.864522</td>\n",
              "      <td>3.758926</td>\n",
              "      <td>3.833197</td>\n",
              "      <td>3.765993</td>\n",
              "      <td>NaN</td>\n",
              "      <td>3.817350</td>\n",
              "      <td>NaN</td>\n",
              "      <td>1.224885e+09</td>\n",
              "      <td>2008.308306</td>\n",
              "    </tr>\n",
              "    <tr>\n",
              "      <th>std</th>\n",
              "      <td>2.161781</td>\n",
              "      <td>22158.284352</td>\n",
              "      <td>5281.805350</td>\n",
              "      <td>NaN</td>\n",
              "      <td>NaN</td>\n",
              "      <td>0.604010</td>\n",
              "      <td>0.685335</td>\n",
              "      <td>0.709962</td>\n",
              "      <td>0.669018</td>\n",
              "      <td>NaN</td>\n",
              "      <td>0.718903</td>\n",
              "      <td>NaN</td>\n",
              "      <td>7.605600e+07</td>\n",
              "      <td>2.409979</td>\n",
              "    </tr>\n",
              "    <tr>\n",
              "      <th>min</th>\n",
              "      <td>0.010000</td>\n",
              "      <td>3.000000</td>\n",
              "      <td>1.000000</td>\n",
              "      <td>NaN</td>\n",
              "      <td>NaN</td>\n",
              "      <td>0.000000</td>\n",
              "      <td>1.000000</td>\n",
              "      <td>0.000000</td>\n",
              "      <td>1.000000</td>\n",
              "      <td>NaN</td>\n",
              "      <td>1.000000</td>\n",
              "      <td>NaN</td>\n",
              "      <td>8.843904e+08</td>\n",
              "      <td>1998.000000</td>\n",
              "    </tr>\n",
              "    <tr>\n",
              "      <th>25%</th>\n",
              "      <td>5.300000</td>\n",
              "      <td>1745.000000</td>\n",
              "      <td>132.000000</td>\n",
              "      <td>NaN</td>\n",
              "      <td>NaN</td>\n",
              "      <td>3.500000</td>\n",
              "      <td>3.500000</td>\n",
              "      <td>3.500000</td>\n",
              "      <td>3.500000</td>\n",
              "      <td>NaN</td>\n",
              "      <td>3.500000</td>\n",
              "      <td>NaN</td>\n",
              "      <td>1.174613e+09</td>\n",
              "      <td>2007.000000</td>\n",
              "    </tr>\n",
              "    <tr>\n",
              "      <th>50%</th>\n",
              "      <td>6.500000</td>\n",
              "      <td>14368.000000</td>\n",
              "      <td>394.000000</td>\n",
              "      <td>NaN</td>\n",
              "      <td>NaN</td>\n",
              "      <td>4.000000</td>\n",
              "      <td>4.000000</td>\n",
              "      <td>4.000000</td>\n",
              "      <td>4.000000</td>\n",
              "      <td>NaN</td>\n",
              "      <td>4.000000</td>\n",
              "      <td>NaN</td>\n",
              "      <td>1.240366e+09</td>\n",
              "      <td>2009.000000</td>\n",
              "    </tr>\n",
              "    <tr>\n",
              "      <th>75%</th>\n",
              "      <td>8.500000</td>\n",
              "      <td>40528.000000</td>\n",
              "      <td>1475.000000</td>\n",
              "      <td>NaN</td>\n",
              "      <td>NaN</td>\n",
              "      <td>4.000000</td>\n",
              "      <td>4.000000</td>\n",
              "      <td>4.500000</td>\n",
              "      <td>4.000000</td>\n",
              "      <td>NaN</td>\n",
              "      <td>4.500000</td>\n",
              "      <td>NaN</td>\n",
              "      <td>1.288560e+09</td>\n",
              "      <td>2010.000000</td>\n",
              "    </tr>\n",
              "    <tr>\n",
              "      <th>max</th>\n",
              "      <td>57.700000</td>\n",
              "      <td>77310.000000</td>\n",
              "      <td>27980.000000</td>\n",
              "      <td>NaN</td>\n",
              "      <td>NaN</td>\n",
              "      <td>5.000000</td>\n",
              "      <td>5.000000</td>\n",
              "      <td>5.000000</td>\n",
              "      <td>5.000000</td>\n",
              "      <td>NaN</td>\n",
              "      <td>5.000000</td>\n",
              "      <td>NaN</td>\n",
              "      <td>1.326277e+09</td>\n",
              "      <td>2012.000000</td>\n",
              "    </tr>\n",
              "  </tbody>\n",
              "</table>\n",
              "</div>"
            ],
            "text/plain": [
              "             beer_ABV    beer_beerId  beer_brewerId  \\\n",
              "count   528870.000000  528870.000000  528870.000000   \n",
              "unique            NaN            NaN            NaN   \n",
              "top               NaN            NaN            NaN   \n",
              "freq              NaN            NaN            NaN   \n",
              "mean         7.017442   22098.466016    2598.423429   \n",
              "std          2.161781   22158.284352    5281.805350   \n",
              "min          0.010000       3.000000       1.000000   \n",
              "25%          5.300000    1745.000000     132.000000   \n",
              "50%          6.500000   14368.000000     394.000000   \n",
              "75%          8.500000   40528.000000    1475.000000   \n",
              "max         57.700000   77310.000000   27980.000000   \n",
              "\n",
              "                            beer_name    beer_style  review_appearance  \\\n",
              "count                          528870        528870      528870.000000   \n",
              "unique                          18339           104                NaN   \n",
              "top     Sierra Nevada Celebration Ale  American IPA                NaN   \n",
              "freq                             3000         43369                NaN   \n",
              "mean                              NaN           NaN           3.864522   \n",
              "std                               NaN           NaN           0.604010   \n",
              "min                               NaN           NaN           0.000000   \n",
              "25%                               NaN           NaN           3.500000   \n",
              "50%                               NaN           NaN           4.000000   \n",
              "75%                               NaN           NaN           4.000000   \n",
              "max                               NaN           NaN           5.000000   \n",
              "\n",
              "        review_palette  review_overall   review_taste review_profileName  \\\n",
              "count    528870.000000   528870.000000  528870.000000             528870   \n",
              "unique             NaN             NaN            NaN              22801   \n",
              "top                NaN             NaN            NaN     northyorksammy   \n",
              "freq               NaN             NaN            NaN               1858   \n",
              "mean          3.758926        3.833197       3.765993                NaN   \n",
              "std           0.685335        0.709962       0.669018                NaN   \n",
              "min           1.000000        0.000000       1.000000                NaN   \n",
              "25%           3.500000        3.500000       3.500000                NaN   \n",
              "50%           4.000000        4.000000       4.000000                NaN   \n",
              "75%           4.000000        4.500000       4.000000                NaN   \n",
              "max           5.000000        5.000000       5.000000                NaN   \n",
              "\n",
              "         review_aroma                                        review_text  \\\n",
              "count   528870.000000                                             528870   \n",
              "unique            NaN                                             528372   \n",
              "top               NaN  <bound method Series.mode of 0         A lot o...   \n",
              "freq              NaN                                                119   \n",
              "mean         3.817350                                                NaN   \n",
              "std          0.718903                                                NaN   \n",
              "min          1.000000                                                NaN   \n",
              "25%          3.500000                                                NaN   \n",
              "50%          4.000000                                                NaN   \n",
              "75%          4.500000                                                NaN   \n",
              "max          5.000000                                                NaN   \n",
              "\n",
              "         review_time           year  \n",
              "count   5.288700e+05  528870.000000  \n",
              "unique           NaN            NaN  \n",
              "top              NaN            NaN  \n",
              "freq             NaN            NaN  \n",
              "mean    1.224885e+09    2008.308306  \n",
              "std     7.605600e+07       2.409979  \n",
              "min     8.843904e+08    1998.000000  \n",
              "25%     1.174613e+09    2007.000000  \n",
              "50%     1.240366e+09    2009.000000  \n",
              "75%     1.288560e+09    2010.000000  \n",
              "max     1.326277e+09    2012.000000  "
            ]
          },
          "execution_count": 26,
          "metadata": {},
          "output_type": "execute_result"
        }
      ],
      "source": [
        "df.describe(include='all')"
      ]
    },
    {
      "cell_type": "markdown",
      "metadata": {
        "id": "a7Lf9TXJO-OV"
      },
      "source": [
        "* The columns that are showing NAN are categorical columns.\n",
        "\n",
        "* It can be observed that in beer_name Sierra Nevada Celebration Ale is on top with a frequency of 3000\n",
        "\n",
        "* in beer_style American IPA is on top with frequecny of 43369\n",
        "\n",
        "*  In  review_profileName northyorksammy is on top with frequency 1858\n",
        "\n",
        "* The difference between the 75% percentile and maximum of beer_ABV is remarkable, it means outliers are present\n",
        "\n",
        "* The difference between 75% percentile and maximum of beer_brewerId is also more but as it is Id number so it can be in that range\n"
      ]
    },
    {
      "cell_type": "markdown",
      "metadata": {
        "id": "26EBOHgwO-OW"
      },
      "source": [
        "#### checking for correlation among columns"
      ]
    },
    {
      "cell_type": "code",
      "execution_count": null,
      "metadata": {
        "id": "uxfxXnscO-OW"
      },
      "outputs": [],
      "source": [
        "dfcor=df.corr()"
      ]
    },
    {
      "cell_type": "code",
      "execution_count": null,
      "metadata": {
        "id": "Qet9KtQlO-OW",
        "outputId": "922e7076-b1d3-4b1d-cf89-4699e01ff1db"
      },
      "outputs": [
        {
          "data": {
            "text/plain": [
              "<AxesSubplot:>"
            ]
          },
          "execution_count": 28,
          "metadata": {},
          "output_type": "execute_result"
        },
        {
          "data": {
            "image/png": "[encoded data removed]",
            "text/plain": [
              "<Figure size 576x576 with 2 Axes>"
            ]
          },
          "metadata": {
            "needs_background": "light"
          },
          "output_type": "display_data"
        }
      ],
      "source": [
        "plt.figure(figsize=(8,8))\n",
        "sns.heatmap(dfcor,cmap='YlOrRd_r',annot=True)"
      ]
    },
    {
      "cell_type": "markdown",
      "metadata": {
        "id": "KOEXKaheO-OX"
      },
      "source": [
        "* review taste and review aroma are highly correlated with each other\n",
        "* review taste and review overall are also highly correlated with each other"
      ]
    },
    {
      "cell_type": "markdown",
      "metadata": {
        "id": "v6KGmikKO-OX"
      },
      "source": [
        "# Questions"
      ]
    },
    {
      "cell_type": "markdown",
      "metadata": {
        "id": "C8ZlXWFPO-OX"
      },
      "source": [
        "## 1.\tRank top 3 Breweries which produce the strongest beers?"
      ]
    },
    {
      "cell_type": "markdown",
      "metadata": {
        "id": "9YpMUavjO-OY"
      },
      "source": [
        "Here strongest beers indicates the strong presence of alcohol in the beer. so we have to find out top 3 beer_brewerId using mean of  beer_ABV"
      ]
    },
    {
      "cell_type": "code",
      "execution_count": null,
      "metadata": {
        "id": "nCBFzn7KO-OY",
        "outputId": "24beba65-ac82-4548-ec6a-dff37fd0563c"
      },
      "outputs": [
        {
          "data": {
            "text/html": [
              "<div>\n",
              "<style scoped>\n",
              "    .dataframe tbody tr th:only-of-type {\n",
              "        vertical-align: middle;\n",
              "    }\n",
              "\n",
              "    .dataframe tbody tr th {\n",
              "        vertical-align: top;\n",
              "    }\n",
              "\n",
              "    .dataframe thead th {\n",
              "        text-align: right;\n",
              "    }\n",
              "</style>\n",
              "<table border=\"1\" class=\"dataframe\">\n",
              "  <thead>\n",
              "    <tr style=\"text-align: right;\">\n",
              "      <th></th>\n",
              "      <th>beer_brewerId</th>\n",
              "      <th>beer_abv_mean</th>\n",
              "    </tr>\n",
              "  </thead>\n",
              "  <tbody>\n",
              "    <tr>\n",
              "      <th>784</th>\n",
              "      <td>6513</td>\n",
              "      <td>19.228824</td>\n",
              "    </tr>\n",
              "    <tr>\n",
              "      <th>175</th>\n",
              "      <td>736</td>\n",
              "      <td>13.395655</td>\n",
              "    </tr>\n",
              "    <tr>\n",
              "      <th>1644</th>\n",
              "      <td>24215</td>\n",
              "      <td>12.466667</td>\n",
              "    </tr>\n",
              "  </tbody>\n",
              "</table>\n",
              "</div>"
            ],
            "text/plain": [
              "      beer_brewerId  beer_abv_mean\n",
              "784            6513      19.228824\n",
              "175             736      13.395655\n",
              "1644          24215      12.466667"
            ]
          },
          "execution_count": 29,
          "metadata": {},
          "output_type": "execute_result"
        }
      ],
      "source": [
        "temp_data = df.groupby(['beer_brewerId'])['beer_ABV'].mean()\n",
        "temp_df = pd.DataFrame(temp_data.reset_index())\n",
        "\n",
        "temp_df.columns = ['beer_brewerId','beer_abv_mean']\n",
        "\n",
        "Top_3_Breweris = temp_df.sort_values(by=['beer_abv_mean'], ascending=False).head(3)\n",
        "\n",
        "Top_3_Breweris"
      ]
    },
    {
      "cell_type": "markdown",
      "metadata": {
        "id": "_UPjdpy5O-OY"
      },
      "source": [
        "# 2.\tWhich year did beers enjoy the highest ratings? "
      ]
    },
    {
      "cell_type": "markdown",
      "metadata": {
        "id": "ek_QokkVO-OZ"
      },
      "source": [
        "to find out highest ratings of beer we need to groupby beer_id and we also need to take highest counts of  all other factors \n",
        "like review appearance, review_aroma, review_overall, review_palettte, and review_taste"
      ]
    },
    {
      "cell_type": "code",
      "execution_count": null,
      "metadata": {
        "scrolled": true,
        "id": "y2ZJV_tKO-OZ",
        "outputId": "0d883ef9-aa54-4714-a9f2-98f9071cfc52"
      },
      "outputs": [
        {
          "data": {
            "text/html": [
              "<div>\n",
              "<style scoped>\n",
              "    .dataframe tbody tr th:only-of-type {\n",
              "        vertical-align: middle;\n",
              "    }\n",
              "\n",
              "    .dataframe tbody tr th {\n",
              "        vertical-align: top;\n",
              "    }\n",
              "\n",
              "    .dataframe thead th {\n",
              "        text-align: right;\n",
              "    }\n",
              "</style>\n",
              "<table border=\"1\" class=\"dataframe\">\n",
              "  <thead>\n",
              "    <tr style=\"text-align: right;\">\n",
              "      <th></th>\n",
              "      <th>beer_beerId</th>\n",
              "      <th>year</th>\n",
              "      <th>review_overall</th>\n",
              "      <th>review_aroma</th>\n",
              "      <th>review_appearance</th>\n",
              "      <th>review_palette</th>\n",
              "      <th>review_taste</th>\n",
              "      <th>beer_ABV</th>\n",
              "    </tr>\n",
              "  </thead>\n",
              "  <tbody>\n",
              "    <tr>\n",
              "      <th>0</th>\n",
              "      <td>1734</td>\n",
              "      <td>2002</td>\n",
              "      <td>5.0</td>\n",
              "      <td>5.0</td>\n",
              "      <td>5.0</td>\n",
              "      <td>5.0</td>\n",
              "      <td>5.0</td>\n",
              "      <td>10.0</td>\n",
              "    </tr>\n",
              "  </tbody>\n",
              "</table>\n",
              "</div>"
            ],
            "text/plain": [
              "   beer_beerId  year  review_overall  review_aroma  review_appearance  \\\n",
              "0         1734  2002             5.0           5.0                5.0   \n",
              "\n",
              "   review_palette  review_taste  beer_ABV  \n",
              "0             5.0           5.0      10.0  "
            ]
          },
          "execution_count": 30,
          "metadata": {},
          "output_type": "execute_result"
        }
      ],
      "source": [
        "temp_df= df.groupby('beer_beerId').agg({'review_overall': np.mean,  'review_aroma': np.mean,'review_appearance': np.mean,\n",
        "                                         'review_palette': np.mean,  'review_taste': np.mean, 'beer_ABV': np.mean})\n",
        "high_reviews = pd.DataFrame(temp_df.reset_index()).sort_values(['review_overall', 'review_aroma','review_appearance','review_palette','review_taste','beer_ABV'], ascending=[False,False, False, False, False, False])\n",
        "High_ratings = pd.merge(df[['beer_beerId','year']],high_reviews[:1],on='beer_beerId') \n",
        "High_ratings"
      ]
    },
    {
      "cell_type": "code",
      "execution_count": null,
      "metadata": {
        "id": "oEXgebktO-OZ",
        "outputId": "58e3cc2e-34ff-4af9-d592-4a5e393d1a43"
      },
      "outputs": [
        {
          "name": "stdout",
          "output_type": "stream",
          "text": [
            "\n",
            "===================================================================================================================\n",
            "year that encountered highest rating=  2002\n",
            "\n",
            "\n",
            "===================================================================================================================\n"
          ]
        }
      ],
      "source": [
        "print('\\n===================================================================================================================')\n",
        "print(\"year that encountered highest rating=\",High_ratings['year'].to_string(index=False))\n",
        "print('\\n\\n===================================================================================================================')"
      ]
    },
    {
      "cell_type": "markdown",
      "metadata": {
        "id": "1K7onY-oO-Oa"
      },
      "source": [
        "# 3.\t Based on the user’s ratings which factors are important among taste, aroma, appearance, and palette?"
      ]
    },
    {
      "cell_type": "markdown",
      "metadata": {
        "id": "McfWWmSzO-Ok"
      },
      "source": [
        "to find the important factor, all the factors need to be considered along with overall_review and the column showing highest correlation with review_overall can be considered as important"
      ]
    },
    {
      "cell_type": "code",
      "execution_count": null,
      "metadata": {
        "id": "weV31Y3KO-Ok",
        "outputId": "2dc43961-d342-4677-88fd-6a99c5be66b5"
      },
      "outputs": [
        {
          "data": {
            "text/html": [
              "<div>\n",
              "<style scoped>\n",
              "    .dataframe tbody tr th:only-of-type {\n",
              "        vertical-align: middle;\n",
              "    }\n",
              "\n",
              "    .dataframe tbody tr th {\n",
              "        vertical-align: top;\n",
              "    }\n",
              "\n",
              "    .dataframe thead th {\n",
              "        text-align: right;\n",
              "    }\n",
              "</style>\n",
              "<table border=\"1\" class=\"dataframe\">\n",
              "  <thead>\n",
              "    <tr style=\"text-align: right;\">\n",
              "      <th></th>\n",
              "      <th>review_taste</th>\n",
              "      <th>review_aroma</th>\n",
              "      <th>review_appearance</th>\n",
              "      <th>review_palette</th>\n",
              "      <th>review_overall</th>\n",
              "    </tr>\n",
              "  </thead>\n",
              "  <tbody>\n",
              "    <tr>\n",
              "      <th>0</th>\n",
              "      <td>1.5</td>\n",
              "      <td>1.5</td>\n",
              "      <td>2.5</td>\n",
              "      <td>2.0</td>\n",
              "      <td>1.5</td>\n",
              "    </tr>\n",
              "    <tr>\n",
              "      <th>1</th>\n",
              "      <td>3.0</td>\n",
              "      <td>3.0</td>\n",
              "      <td>3.0</td>\n",
              "      <td>2.5</td>\n",
              "      <td>3.0</td>\n",
              "    </tr>\n",
              "    <tr>\n",
              "      <th>2</th>\n",
              "      <td>3.0</td>\n",
              "      <td>3.0</td>\n",
              "      <td>3.0</td>\n",
              "      <td>2.5</td>\n",
              "      <td>3.0</td>\n",
              "    </tr>\n",
              "    <tr>\n",
              "      <th>3</th>\n",
              "      <td>2.5</td>\n",
              "      <td>3.0</td>\n",
              "      <td>3.5</td>\n",
              "      <td>3.0</td>\n",
              "      <td>3.0</td>\n",
              "    </tr>\n",
              "    <tr>\n",
              "      <th>4</th>\n",
              "      <td>4.0</td>\n",
              "      <td>4.5</td>\n",
              "      <td>4.0</td>\n",
              "      <td>4.5</td>\n",
              "      <td>4.0</td>\n",
              "    </tr>\n",
              "  </tbody>\n",
              "</table>\n",
              "</div>"
            ],
            "text/plain": [
              "   review_taste  review_aroma  review_appearance  review_palette  \\\n",
              "0           1.5           1.5                2.5             2.0   \n",
              "1           3.0           3.0                3.0             2.5   \n",
              "2           3.0           3.0                3.0             2.5   \n",
              "3           2.5           3.0                3.5             3.0   \n",
              "4           4.0           4.5                4.0             4.5   \n",
              "\n",
              "   review_overall  \n",
              "0             1.5  \n",
              "1             3.0  \n",
              "2             3.0  \n",
              "3             3.0  \n",
              "4             4.0  "
            ]
          },
          "execution_count": 32,
          "metadata": {},
          "output_type": "execute_result"
        }
      ],
      "source": [
        "columns= df[['review_taste','review_aroma','review_appearance','review_palette','review_overall']]\n",
        "columns.head()"
      ]
    },
    {
      "cell_type": "code",
      "execution_count": null,
      "metadata": {
        "id": "y6P4iggLO-Ol",
        "outputId": "fd59d4cd-86e8-4afe-ee20-7b08292c6a31"
      },
      "outputs": [
        {
          "data": {
            "text/plain": [
              "<AxesSubplot:>"
            ]
          },
          "execution_count": 33,
          "metadata": {},
          "output_type": "execute_result"
        },
        {
          "data": {
            "image/png": "[encoded data removed]",
            "text/plain": [
              "<Figure size 576x576 with 2 Axes>"
            ]
          },
          "metadata": {
            "needs_background": "light"
          },
          "output_type": "display_data"
        }
      ],
      "source": [
        "plt.figure(figsize=(8,8))\n",
        "sns.heatmap(columns.corr(),cmap='YlOrRd_r',annot=True)"
      ]
    },
    {
      "cell_type": "markdown",
      "metadata": {
        "id": "g4pHhJVbO-Ol"
      },
      "source": [
        "here it can be clearly noted that \n",
        "\n",
        "*1) review_aroma is highly correlated with review_overall with correlation of 78%\n",
        "\n",
        "*2) then review_taste has correlation of 69% with review_overall\n",
        "\n",
        "*3)review_palette has correlation of 49 %\n",
        "\n",
        "*4)review_appearance is weakly correlated with 6 %"
      ]
    },
    {
      "cell_type": "code",
      "execution_count": null,
      "metadata": {
        "id": "EBz6n_-xO-Ol",
        "outputId": "0dfbee6e-cfcc-428a-f6bb-90badd48987f"
      },
      "outputs": [
        {
          "data": {
            "image/png": "[encoded data removed]",
            "text/plain": [
              "<Figure size 1080x504 with 1 Axes>"
            ]
          },
          "metadata": {
            "needs_background": "light"
          },
          "output_type": "display_data"
        }
      ],
      "source": [
        "plt.figure(figsize=(15,7))\n",
        "columns.corr()['review_overall'].sort_values(ascending=False).drop(['review_overall']).plot(kind='bar',color='c')\n",
        "plt.xlabel('feature',fontsize=18)\n",
        "plt.ylabel('column with target names',fontsize=14)\n",
        "plt.title('correlation',fontsize=18)\n",
        "plt.show()"
      ]
    },
    {
      "cell_type": "markdown",
      "metadata": {
        "id": "-8wk48dcO-Om"
      },
      "source": [
        "###### from the above bar graph it can be considered that important factors are\n",
        "\n",
        "1) review_aroma\n",
        "\n",
        "2)review_taste\n",
        "\n",
        "3)review_palette\n",
        "\n",
        "4)review_appearance\n",
        "\n",
        "\n",
        "==============================================================================================================================="
      ]
    },
    {
      "cell_type": "markdown",
      "metadata": {
        "id": "NhLHHMQqO-Om"
      },
      "source": [
        "# 4.\tIf you were to recommend 3 beers to your friends based on this data which ones will you recommend?"
      ]
    },
    {
      "cell_type": "markdown",
      "metadata": {
        "id": "eUuC3jkKO-Om"
      },
      "source": [
        "finding top 3 beers to recommend to friend is similar like finding the year with highest rating,\n",
        "here I will use groupby function on beer_name and highest count (mean ) on all factors like\n",
        "beer_ABV', 'beer_beerId', 'beer_brewerId', 'beer_name', 'beer_style','review_appearance', 'review_palette', 'review_overall', 'review_taste','review_aroma', "
      ]
    },
    {
      "cell_type": "code",
      "execution_count": null,
      "metadata": {
        "id": "01CV1OqyO-On",
        "outputId": "4d69be00-5730-418d-ef73-c9ad234787b7"
      },
      "outputs": [
        {
          "data": {
            "text/html": [
              "<div>\n",
              "<style scoped>\n",
              "    .dataframe tbody tr th:only-of-type {\n",
              "        vertical-align: middle;\n",
              "    }\n",
              "\n",
              "    .dataframe tbody tr th {\n",
              "        vertical-align: top;\n",
              "    }\n",
              "\n",
              "    .dataframe thead th {\n",
              "        text-align: right;\n",
              "    }\n",
              "</style>\n",
              "<table border=\"1\" class=\"dataframe\">\n",
              "  <thead>\n",
              "    <tr style=\"text-align: right;\">\n",
              "      <th></th>\n",
              "      <th>beer_name</th>\n",
              "      <th>review_overall</th>\n",
              "      <th>review_aroma</th>\n",
              "      <th>review_appearance</th>\n",
              "      <th>review_palette</th>\n",
              "      <th>review_taste</th>\n",
              "      <th>beer_ABV</th>\n",
              "      <th>beer_beerId</th>\n",
              "      <th>beer_style</th>\n",
              "    </tr>\n",
              "  </thead>\n",
              "  <tbody>\n",
              "    <tr>\n",
              "      <th>0</th>\n",
              "      <td>Edsten Triple-Wit</td>\n",
              "      <td>5.0</td>\n",
              "      <td>5.0</td>\n",
              "      <td>5.0</td>\n",
              "      <td>5.0</td>\n",
              "      <td>5.0</td>\n",
              "      <td>10.0</td>\n",
              "      <td>1734</td>\n",
              "      <td>Belgian Strong Pale Ale</td>\n",
              "    </tr>\n",
              "    <tr>\n",
              "      <th>1</th>\n",
              "      <td>Old Gander Barley Wine</td>\n",
              "      <td>5.0</td>\n",
              "      <td>5.0</td>\n",
              "      <td>5.0</td>\n",
              "      <td>5.0</td>\n",
              "      <td>5.0</td>\n",
              "      <td>9.5</td>\n",
              "      <td>29423</td>\n",
              "      <td>American Barleywine</td>\n",
              "    </tr>\n",
              "    <tr>\n",
              "      <th>2</th>\n",
              "      <td>Rogue Black Brutal</td>\n",
              "      <td>5.0</td>\n",
              "      <td>5.0</td>\n",
              "      <td>5.0</td>\n",
              "      <td>5.0</td>\n",
              "      <td>5.0</td>\n",
              "      <td>9.0</td>\n",
              "      <td>45944</td>\n",
              "      <td>Schwarzbier</td>\n",
              "    </tr>\n",
              "  </tbody>\n",
              "</table>\n",
              "</div>"
            ],
            "text/plain": [
              "                beer_name  review_overall  review_aroma  review_appearance  \\\n",
              "0       Edsten Triple-Wit             5.0           5.0                5.0   \n",
              "1  Old Gander Barley Wine             5.0           5.0                5.0   \n",
              "2      Rogue Black Brutal             5.0           5.0                5.0   \n",
              "\n",
              "   review_palette  review_taste  beer_ABV  beer_beerId  \\\n",
              "0             5.0           5.0      10.0         1734   \n",
              "1             5.0           5.0       9.5        29423   \n",
              "2             5.0           5.0       9.0        45944   \n",
              "\n",
              "                beer_style  \n",
              "0  Belgian Strong Pale Ale  \n",
              "1      American Barleywine  \n",
              "2              Schwarzbier  "
            ]
          },
          "execution_count": 35,
          "metadata": {},
          "output_type": "execute_result"
        }
      ],
      "source": [
        "beers= df.groupby('beer_name').agg({'review_overall': np.mean,'review_aroma': np.mean,'review_appearance': np.mean,\n",
        "                                    'review_palette': np.mean,'review_taste': np.mean,'beer_ABV': np.mean})\n",
        "top_beers = pd.DataFrame(beers.reset_index()).sort_values(['review_overall', 'review_aroma','review_appearance','review_palette','review_taste','beer_ABV'], ascending=[False,False, False, False, False, False])\n",
        "top_3_beers_names = pd.merge(top_beers[:3],df[['beer_name','beer_beerId','beer_style']],on='beer_name') \n",
        "top_3_beers_names"
      ]
    },
    {
      "cell_type": "code",
      "execution_count": null,
      "metadata": {
        "id": "ipsn6gU2O-On",
        "outputId": "697df179-87f6-484c-c0b3-65387480875f"
      },
      "outputs": [
        {
          "name": "stdout",
          "output_type": "stream",
          "text": [
            "======================================Top 3 beer names to recommend to friends are======================================\n",
            "      Edsten Triple-Wit\n",
            " Old Gander Barley Wine\n",
            "     Rogue Black Brutal\n",
            "\n",
            "========================================================================================================================\n"
          ]
        }
      ],
      "source": [
        "print('======================================Top 3 beer names to recommend to friends are======================================')\n",
        "print(top_3_beers_names['beer_name'].to_string(index=False))\n",
        "print('\\n========================================================================================================================')"
      ]
    },
    {
      "cell_type": "markdown",
      "metadata": {
        "id": "s2k44x4BO-Oo"
      },
      "source": [
        "# 5.\tWhich Beer style seems to be the favorite based on reviews written by users? "
      ]
    },
    {
      "cell_type": "markdown",
      "metadata": {
        "id": "oxB7JNXnO-Oo"
      },
      "source": [
        "for finding the favourite beer style this we need to preprocess, train and do sentiment analysis of reviews considering beer style as target and review_text as feature"
      ]
    },
    {
      "cell_type": "code",
      "execution_count": null,
      "metadata": {
        "id": "uTw5KAOlO-Oo"
      },
      "outputs": [],
      "source": [
        "import nltk\n",
        "import string\n",
        "from nltk.corpus import stopwords\n",
        "words=stopwords.words('english')"
      ]
    },
    {
      "cell_type": "code",
      "execution_count": null,
      "metadata": {
        "id": "NL8C-TCPO-Op"
      },
      "outputs": [],
      "source": [
        "# we will eliminate the following list items from stopwords so when we remove stopwords from review this words will not be removed as we are doing sentiment analysis\n",
        "negative_wordlist = ['no','not','nor','aren',\n",
        " \"aren't\",\n",
        " 'couldn',\n",
        " \"couldn't\",\n",
        " 'didn',\n",
        " \"didn't\",\n",
        " 'doesn',\n",
        " \"doesn't\",\n",
        " 'hadn',\n",
        " \"hadn't\",\n",
        " 'hasn',\n",
        " \"hasn't\",\n",
        " 'haven',\n",
        " \"haven't\",\n",
        " 'isn',\n",
        " \"isn't\",'ma',\n",
        " 'mightn',\n",
        " \"mightn't\",\n",
        " 'mustn',\n",
        " \"mustn't\",\n",
        " 'needn',\n",
        " \"needn't\",\n",
        " 'shan',\n",
        " \"shan't\",\n",
        " 'shouldn',\n",
        " \"shouldn't\",\n",
        " 'wasn',\n",
        " \"wasn't\",\n",
        " 'weren',\n",
        " \"weren't\",\n",
        " 'won',\n",
        " \"won't\",\n",
        " 'wouldn',\n",
        " \"wouldn't\"]"
      ]
    },
    {
      "cell_type": "code",
      "execution_count": null,
      "metadata": {
        "id": "e-FnPHmMO-Op"
      },
      "outputs": [],
      "source": [
        "# creating final stopwords list which contains all the predefined stopwords and we will remove the negative wordlist items from it\n",
        "stopwords_list = []\n",
        "for i in words:\n",
        "    if i not in negative_wordlist :\n",
        "        stopwords_list.append(i)"
      ]
    },
    {
      "cell_type": "code",
      "execution_count": null,
      "metadata": {
        "id": "FypyyB6ZO-Op"
      },
      "outputs": [],
      "source": [
        "stopwords=stopwords_list"
      ]
    },
    {
      "cell_type": "code",
      "execution_count": null,
      "metadata": {
        "id": "I7HFm01DO-Oq"
      },
      "outputs": [],
      "source": [
        "import re\n",
        "# converting to lower()\n",
        "df['review_text']=df['review_text'].str.lower()\n",
        "\n",
        "#removing_stopwords\n",
        "df['review_text']=df['review_text'].apply(lambda x: ' '.join( term for term in str(x).split() if term not in stopwords ))"
      ]
    },
    {
      "cell_type": "code",
      "execution_count": null,
      "metadata": {
        "id": "_bVvavgiO-Oq"
      },
      "outputs": [],
      "source": [
        "# sentiment analysis using SentimentIntensityAnalyzer\n",
        "from nltk.sentiment.vader import SentimentIntensityAnalyzer\n",
        "senti = SentimentIntensityAnalyzer()"
      ]
    },
    {
      "cell_type": "code",
      "execution_count": null,
      "metadata": {
        "id": "-ttRdkPTO-Oq"
      },
      "outputs": [],
      "source": [
        "df['polarity_score'] = df['review_text'].apply(lambda x: senti.polarity_scores(x)['compound'])"
      ]
    },
    {
      "cell_type": "code",
      "execution_count": null,
      "metadata": {
        "id": "SeVReVkNO-Or",
        "outputId": "378e1a28-ac51-43ac-ad33-dd01170fbdd6"
      },
      "outputs": [
        {
          "data": {
            "text/plain": [
              "beer_style\n",
              "Quadrupel (Quad)                    0.862545\n",
              "Braggot                             0.860895\n",
              "Flanders Red Ale                    0.852030\n",
              "Eisbock                             0.851972\n",
              "Dortmunder / Export Lager           0.850105\n",
              "American Double / Imperial Stout    0.845400\n",
              "Wheatwine                           0.839985\n",
              "Kvass                               0.837569\n",
              "Old Ale                             0.837084\n",
              "Belgian Strong Dark Ale             0.835026\n",
              "Name: polarity_score, dtype: float64"
            ]
          },
          "execution_count": 44,
          "metadata": {},
          "output_type": "execute_result"
        }
      ],
      "source": [
        "# Group by 'beer_style' and calculate mean of polarity score\n",
        "df.groupby('beer_style')['polarity_score'].mean().sort_values(ascending=False)[0:10]"
      ]
    },
    {
      "cell_type": "markdown",
      "metadata": {
        "id": "xe4oRbEwO-Or"
      },
      "source": [
        "==============================================================================================================================\n",
        "On the basis of written reviews following Beer Styles seems to be favourite\n",
        "* 1) Quadrupel (Quad)                   \n",
        "* 2)Braggot                            \n",
        "* 3)Flanders Red Ale                   \n",
        "* 4)Eisbock                            \n",
        "* 5)Dortmunder / Export Lager          \n",
        "* 6)American Double / Imperial Stout   \n",
        "* 7)Wheatwine                          \n",
        "* 8)Kvass                              \n",
        "* 9) Old Ale                            \n",
        "* 10) Belgian Strong Dark Ale\n"
      ]
    },
    {
      "cell_type": "markdown",
      "metadata": {
        "id": "mvtbUVvsO-Or"
      },
      "source": [
        "# 6.\tHow does written review compare to overall review score for the beer styles?"
      ]
    },
    {
      "cell_type": "markdown",
      "metadata": {
        "id": "Rj9SK0A7O-Os"
      },
      "source": [
        "we will find it using mean of polarity_score and mean of review_overall on beer_style with groupby function"
      ]
    },
    {
      "cell_type": "code",
      "execution_count": null,
      "metadata": {
        "id": "rGkLCwTAO-Os",
        "outputId": "3d335e00-1d37-448d-e0ce-171aa5177e34"
      },
      "outputs": [
        {
          "data": {
            "text/html": [
              "<div>\n",
              "<style scoped>\n",
              "    .dataframe tbody tr th:only-of-type {\n",
              "        vertical-align: middle;\n",
              "    }\n",
              "\n",
              "    .dataframe tbody tr th {\n",
              "        vertical-align: top;\n",
              "    }\n",
              "\n",
              "    .dataframe thead th {\n",
              "        text-align: right;\n",
              "    }\n",
              "</style>\n",
              "<table border=\"1\" class=\"dataframe\">\n",
              "  <thead>\n",
              "    <tr style=\"text-align: right;\">\n",
              "      <th></th>\n",
              "      <th>beer_style</th>\n",
              "      <th>polarity_score</th>\n",
              "      <th>review_overall</th>\n",
              "    </tr>\n",
              "  </thead>\n",
              "  <tbody>\n",
              "    <tr>\n",
              "      <th>86</th>\n",
              "      <td>Quadrupel (Quad)</td>\n",
              "      <td>0.862545</td>\n",
              "      <td>4.049250</td>\n",
              "    </tr>\n",
              "    <tr>\n",
              "      <th>32</th>\n",
              "      <td>Braggot</td>\n",
              "      <td>0.860895</td>\n",
              "      <td>3.645729</td>\n",
              "    </tr>\n",
              "    <tr>\n",
              "      <th>58</th>\n",
              "      <td>Flanders Red Ale</td>\n",
              "      <td>0.852030</td>\n",
              "      <td>3.962561</td>\n",
              "    </tr>\n",
              "    <tr>\n",
              "      <th>41</th>\n",
              "      <td>Eisbock</td>\n",
              "      <td>0.851972</td>\n",
              "      <td>4.079487</td>\n",
              "    </tr>\n",
              "    <tr>\n",
              "      <th>38</th>\n",
              "      <td>Dortmunder / Export Lager</td>\n",
              "      <td>0.850105</td>\n",
              "      <td>4.051962</td>\n",
              "    </tr>\n",
              "  </tbody>\n",
              "</table>\n",
              "</div>"
            ],
            "text/plain": [
              "                   beer_style  polarity_score  review_overall\n",
              "86           Quadrupel (Quad)        0.862545        4.049250\n",
              "32                    Braggot        0.860895        3.645729\n",
              "58           Flanders Red Ale        0.852030        3.962561\n",
              "41                    Eisbock        0.851972        4.079487\n",
              "38  Dortmunder / Export Lager        0.850105        4.051962"
            ]
          },
          "execution_count": 45,
          "metadata": {},
          "output_type": "execute_result"
        }
      ],
      "source": [
        "reviews = df.groupby('beer_style').agg({'polarity_score': np.mean,'review_overall': np.mean})\n",
        "score= pd.DataFrame(reviews.reset_index()).sort_values(['polarity_score','review_overall'], ascending=[False,False])\n",
        "score.head()"
      ]
    },
    {
      "cell_type": "markdown",
      "metadata": {
        "id": "i6PWM3h2O-Os"
      },
      "source": [
        "###### Using the polarity_Score we can observer that as the polarity_score of review text is highest so is the review_overall, indicating that the review_text and review_overall are positively correlated with each other\n",
        "\n",
        "==============================================================================================================================="
      ]
    },
    {
      "cell_type": "markdown",
      "metadata": {
        "id": "PQQ6U-RXO-Ot"
      },
      "source": [
        "# 7.\tHow do find similar beer drinkers by using written reviews only?   "
      ]
    },
    {
      "cell_type": "markdown",
      "metadata": {
        "id": "GWgh-yMuO-Ot"
      },
      "source": [
        "by using polarity_score we can find the beer drinkers with similar written reviews, like the review_profilename who has same polarity_score simply means their reviews are similar"
      ]
    },
    {
      "cell_type": "code",
      "execution_count": null,
      "metadata": {
        "id": "Qsk9OiHfO-Ot",
        "outputId": "c0c9d598-6e62-48bf-fed6-bbe55401b3fc"
      },
      "outputs": [
        {
          "data": {
            "text/html": [
              "<div>\n",
              "<style scoped>\n",
              "    .dataframe tbody tr th:only-of-type {\n",
              "        vertical-align: middle;\n",
              "    }\n",
              "\n",
              "    .dataframe tbody tr th {\n",
              "        vertical-align: top;\n",
              "    }\n",
              "\n",
              "    .dataframe thead th {\n",
              "        text-align: right;\n",
              "    }\n",
              "</style>\n",
              "<table border=\"1\" class=\"dataframe\">\n",
              "  <thead>\n",
              "    <tr style=\"text-align: right;\">\n",
              "      <th></th>\n",
              "      <th>review_profileName</th>\n",
              "      <th>polarity_score</th>\n",
              "      <th>review_overall</th>\n",
              "    </tr>\n",
              "  </thead>\n",
              "  <tbody>\n",
              "    <tr>\n",
              "      <th>605</th>\n",
              "      <td>B0bD0bbselbock</td>\n",
              "      <td>0.9986</td>\n",
              "      <td>4.5</td>\n",
              "    </tr>\n",
              "    <tr>\n",
              "      <th>16620</th>\n",
              "      <td>layapandora</td>\n",
              "      <td>0.9984</td>\n",
              "      <td>3.0</td>\n",
              "    </tr>\n",
              "    <tr>\n",
              "      <th>7975</th>\n",
              "      <td>Stimwizzle</td>\n",
              "      <td>0.9981</td>\n",
              "      <td>5.0</td>\n",
              "    </tr>\n",
              "    <tr>\n",
              "      <th>7494</th>\n",
              "      <td>Scottiv</td>\n",
              "      <td>0.9980</td>\n",
              "      <td>4.5</td>\n",
              "    </tr>\n",
              "    <tr>\n",
              "      <th>8123</th>\n",
              "      <td>SynergyZ</td>\n",
              "      <td>0.9978</td>\n",
              "      <td>3.5</td>\n",
              "    </tr>\n",
              "  </tbody>\n",
              "</table>\n",
              "</div>"
            ],
            "text/plain": [
              "      review_profileName  polarity_score  review_overall\n",
              "605       B0bD0bbselbock          0.9986             4.5\n",
              "16620        layapandora          0.9984             3.0\n",
              "7975          Stimwizzle          0.9981             5.0\n",
              "7494             Scottiv          0.9980             4.5\n",
              "8123            SynergyZ          0.9978             3.5"
            ]
          },
          "execution_count": 46,
          "metadata": {},
          "output_type": "execute_result"
        }
      ],
      "source": [
        "reviews = df.groupby('review_profileName').agg({'polarity_score': np.mean,'review_overall': np.mean})\n",
        "score= pd.DataFrame(reviews.reset_index()).sort_values(['polarity_score','review_overall'], ascending=[False,False])\n",
        "score.head()"
      ]
    },
    {
      "cell_type": "code",
      "execution_count": null,
      "metadata": {
        "id": "BJC6fOtGO-Ou",
        "outputId": "d945eca2-e858-4dcc-a913-2d464d7f2506"
      },
      "outputs": [
        {
          "name": "stdout",
          "output_type": "stream",
          "text": [
            "(474, 15)\n"
          ]
        },
        {
          "data": {
            "text/html": [
              "<div>\n",
              "<style scoped>\n",
              "    .dataframe tbody tr th:only-of-type {\n",
              "        vertical-align: middle;\n",
              "    }\n",
              "\n",
              "    .dataframe tbody tr th {\n",
              "        vertical-align: top;\n",
              "    }\n",
              "\n",
              "    .dataframe thead th {\n",
              "        text-align: right;\n",
              "    }\n",
              "</style>\n",
              "<table border=\"1\" class=\"dataframe\">\n",
              "  <thead>\n",
              "    <tr style=\"text-align: right;\">\n",
              "      <th></th>\n",
              "      <th>beer_ABV</th>\n",
              "      <th>beer_beerId</th>\n",
              "      <th>beer_brewerId</th>\n",
              "      <th>beer_name</th>\n",
              "      <th>beer_style</th>\n",
              "      <th>review_appearance</th>\n",
              "      <th>review_palette</th>\n",
              "      <th>review_overall</th>\n",
              "      <th>review_taste</th>\n",
              "      <th>review_profileName</th>\n",
              "      <th>review_aroma</th>\n",
              "      <th>review_text</th>\n",
              "      <th>review_time</th>\n",
              "      <th>year</th>\n",
              "      <th>polarity_score</th>\n",
              "    </tr>\n",
              "  </thead>\n",
              "  <tbody>\n",
              "    <tr>\n",
              "      <th>841</th>\n",
              "      <td>5.4</td>\n",
              "      <td>10785</td>\n",
              "      <td>1075</td>\n",
              "      <td>Ashland Amber</td>\n",
              "      <td>American Amber / Red Ale</td>\n",
              "      <td>4.5</td>\n",
              "      <td>4.0</td>\n",
              "      <td>4.0</td>\n",
              "      <td>4.0</td>\n",
              "      <td>Slatetank</td>\n",
              "      <td>4.0</td>\n",
              "      <td>picked al's hampden, poured chilled tulip. - r...</td>\n",
              "      <td>1271703926</td>\n",
              "      <td>2010</td>\n",
              "      <td>0.99</td>\n",
              "    </tr>\n",
              "    <tr>\n",
              "      <th>1623</th>\n",
              "      <td>5.5</td>\n",
              "      <td>13289</td>\n",
              "      <td>1454</td>\n",
              "      <td>Oktoberfest</td>\n",
              "      <td>Märzen / Oktoberfest</td>\n",
              "      <td>4.5</td>\n",
              "      <td>3.5</td>\n",
              "      <td>5.0</td>\n",
              "      <td>4.0</td>\n",
              "      <td>RustyShackleford</td>\n",
              "      <td>4.5</td>\n",
              "      <td>stopped dinner wife's birthday. tried tap stuf...</td>\n",
              "      <td>1160669337</td>\n",
              "      <td>2006</td>\n",
              "      <td>0.99</td>\n",
              "    </tr>\n",
              "    <tr>\n",
              "      <th>2307</th>\n",
              "      <td>5.6</td>\n",
              "      <td>44844</td>\n",
              "      <td>13614</td>\n",
              "      <td>St. Anna Festbier</td>\n",
              "      <td>Märzen / Oktoberfest</td>\n",
              "      <td>3.5</td>\n",
              "      <td>4.0</td>\n",
              "      <td>4.0</td>\n",
              "      <td>4.0</td>\n",
              "      <td>TKempe</td>\n",
              "      <td>4.5</td>\n",
              "      <td>label shows nice little picture crowd people g...</td>\n",
              "      <td>1221334733</td>\n",
              "      <td>2008</td>\n",
              "      <td>0.99</td>\n",
              "    </tr>\n",
              "    <tr>\n",
              "      <th>3862</th>\n",
              "      <td>6.8</td>\n",
              "      <td>33624</td>\n",
              "      <td>14879</td>\n",
              "      <td>Hoppin' To Heaven IPA</td>\n",
              "      <td>American IPA</td>\n",
              "      <td>4.5</td>\n",
              "      <td>3.0</td>\n",
              "      <td>4.5</td>\n",
              "      <td>4.0</td>\n",
              "      <td>Deuane</td>\n",
              "      <td>4.5</td>\n",
              "      <td>a-clear copper medium white head. foam didnt l...</td>\n",
              "      <td>1209421195</td>\n",
              "      <td>2008</td>\n",
              "      <td>0.99</td>\n",
              "    </tr>\n",
              "    <tr>\n",
              "      <th>5051</th>\n",
              "      <td>9.4</td>\n",
              "      <td>33644</td>\n",
              "      <td>14879</td>\n",
              "      <td>B.O.R.I.S. The Crusher Oatmeal-Imperial Stout</td>\n",
              "      <td>Russian Imperial Stout</td>\n",
              "      <td>4.0</td>\n",
              "      <td>4.0</td>\n",
              "      <td>5.0</td>\n",
              "      <td>5.0</td>\n",
              "      <td>abecall98</td>\n",
              "      <td>5.0</td>\n",
              "      <td>oh boy, pouring bottle ba badboy. - pours nice...</td>\n",
              "      <td>1278558360</td>\n",
              "      <td>2010</td>\n",
              "      <td>0.99</td>\n",
              "    </tr>\n",
              "    <tr>\n",
              "      <th>...</th>\n",
              "      <td>...</td>\n",
              "      <td>...</td>\n",
              "      <td>...</td>\n",
              "      <td>...</td>\n",
              "      <td>...</td>\n",
              "      <td>...</td>\n",
              "      <td>...</td>\n",
              "      <td>...</td>\n",
              "      <td>...</td>\n",
              "      <td>...</td>\n",
              "      <td>...</td>\n",
              "      <td>...</td>\n",
              "      <td>...</td>\n",
              "      <td>...</td>\n",
              "      <td>...</td>\n",
              "    </tr>\n",
              "    <tr>\n",
              "      <th>522984</th>\n",
              "      <td>7.0</td>\n",
              "      <td>782</td>\n",
              "      <td>113</td>\n",
              "      <td>Samuel Smith's Imperial Stout</td>\n",
              "      <td>Russian Imperial Stout</td>\n",
              "      <td>4.5</td>\n",
              "      <td>4.5</td>\n",
              "      <td>5.0</td>\n",
              "      <td>4.5</td>\n",
              "      <td>BEERchitect</td>\n",
              "      <td>4.5</td>\n",
              "      <td>best balanced stout ever had. used drink beer ...</td>\n",
              "      <td>1139768440</td>\n",
              "      <td>2006</td>\n",
              "      <td>0.99</td>\n",
              "    </tr>\n",
              "    <tr>\n",
              "      <th>523328</th>\n",
              "      <td>7.0</td>\n",
              "      <td>782</td>\n",
              "      <td>113</td>\n",
              "      <td>Samuel Smith's Imperial Stout</td>\n",
              "      <td>Russian Imperial Stout</td>\n",
              "      <td>4.5</td>\n",
              "      <td>4.5</td>\n",
              "      <td>4.0</td>\n",
              "      <td>4.0</td>\n",
              "      <td>bighops</td>\n",
              "      <td>3.5</td>\n",
              "      <td>one poured nice rich dark chocolaty color thin...</td>\n",
              "      <td>1067653318</td>\n",
              "      <td>2003</td>\n",
              "      <td>0.99</td>\n",
              "    </tr>\n",
              "    <tr>\n",
              "      <th>523511</th>\n",
              "      <td>7.0</td>\n",
              "      <td>782</td>\n",
              "      <td>113</td>\n",
              "      <td>Samuel Smith's Imperial Stout</td>\n",
              "      <td>Russian Imperial Stout</td>\n",
              "      <td>4.0</td>\n",
              "      <td>4.5</td>\n",
              "      <td>3.5</td>\n",
              "      <td>3.5</td>\n",
              "      <td>madvermin</td>\n",
              "      <td>4.0</td>\n",
              "      <td>pours fluid jet black, complete opacity, healt...</td>\n",
              "      <td>1299142945</td>\n",
              "      <td>2011</td>\n",
              "      <td>0.99</td>\n",
              "    </tr>\n",
              "    <tr>\n",
              "      <th>524159</th>\n",
              "      <td>7.0</td>\n",
              "      <td>782</td>\n",
              "      <td>113</td>\n",
              "      <td>Samuel Smith's Imperial Stout</td>\n",
              "      <td>Russian Imperial Stout</td>\n",
              "      <td>5.0</td>\n",
              "      <td>5.0</td>\n",
              "      <td>5.0</td>\n",
              "      <td>5.0</td>\n",
              "      <td>hustlesworth</td>\n",
              "      <td>5.0</td>\n",
              "      <td>a- complete black except tiny shred burgundy b...</td>\n",
              "      <td>1207546113</td>\n",
              "      <td>2008</td>\n",
              "      <td>0.99</td>\n",
              "    </tr>\n",
              "    <tr>\n",
              "      <th>526369</th>\n",
              "      <td>8.0</td>\n",
              "      <td>773</td>\n",
              "      <td>283</td>\n",
              "      <td>Goudenband</td>\n",
              "      <td>Flanders Oud Bruin</td>\n",
              "      <td>5.0</td>\n",
              "      <td>4.5</td>\n",
              "      <td>5.0</td>\n",
              "      <td>5.0</td>\n",
              "      <td>NoLiberty</td>\n",
              "      <td>5.0</td>\n",
              "      <td>incredible 20 year old bottle (1987) enjoyed b...</td>\n",
              "      <td>1202604848</td>\n",
              "      <td>2008</td>\n",
              "      <td>0.99</td>\n",
              "    </tr>\n",
              "  </tbody>\n",
              "</table>\n",
              "<p>474 rows × 15 columns</p>\n",
              "</div>"
            ],
            "text/plain": [
              "        beer_ABV  beer_beerId  beer_brewerId  \\\n",
              "841          5.4        10785           1075   \n",
              "1623         5.5        13289           1454   \n",
              "2307         5.6        44844          13614   \n",
              "3862         6.8        33624          14879   \n",
              "5051         9.4        33644          14879   \n",
              "...          ...          ...            ...   \n",
              "522984       7.0          782            113   \n",
              "523328       7.0          782            113   \n",
              "523511       7.0          782            113   \n",
              "524159       7.0          782            113   \n",
              "526369       8.0          773            283   \n",
              "\n",
              "                                            beer_name  \\\n",
              "841                                     Ashland Amber   \n",
              "1623                                      Oktoberfest   \n",
              "2307                                St. Anna Festbier   \n",
              "3862                            Hoppin' To Heaven IPA   \n",
              "5051    B.O.R.I.S. The Crusher Oatmeal-Imperial Stout   \n",
              "...                                               ...   \n",
              "522984                  Samuel Smith's Imperial Stout   \n",
              "523328                  Samuel Smith's Imperial Stout   \n",
              "523511                  Samuel Smith's Imperial Stout   \n",
              "524159                  Samuel Smith's Imperial Stout   \n",
              "526369                                     Goudenband   \n",
              "\n",
              "                      beer_style  review_appearance  review_palette  \\\n",
              "841     American Amber / Red Ale                4.5             4.0   \n",
              "1623        Märzen / Oktoberfest                4.5             3.5   \n",
              "2307        Märzen / Oktoberfest                3.5             4.0   \n",
              "3862                American IPA                4.5             3.0   \n",
              "5051      Russian Imperial Stout                4.0             4.0   \n",
              "...                          ...                ...             ...   \n",
              "522984    Russian Imperial Stout                4.5             4.5   \n",
              "523328    Russian Imperial Stout                4.5             4.5   \n",
              "523511    Russian Imperial Stout                4.0             4.5   \n",
              "524159    Russian Imperial Stout                5.0             5.0   \n",
              "526369        Flanders Oud Bruin                5.0             4.5   \n",
              "\n",
              "        review_overall  review_taste review_profileName  review_aroma  \\\n",
              "841                4.0           4.0          Slatetank           4.0   \n",
              "1623               5.0           4.0   RustyShackleford           4.5   \n",
              "2307               4.0           4.0             TKempe           4.5   \n",
              "3862               4.5           4.0             Deuane           4.5   \n",
              "5051               5.0           5.0          abecall98           5.0   \n",
              "...                ...           ...                ...           ...   \n",
              "522984             5.0           4.5        BEERchitect           4.5   \n",
              "523328             4.0           4.0            bighops           3.5   \n",
              "523511             3.5           3.5          madvermin           4.0   \n",
              "524159             5.0           5.0       hustlesworth           5.0   \n",
              "526369             5.0           5.0          NoLiberty           5.0   \n",
              "\n",
              "                                              review_text  review_time  year  \\\n",
              "841     picked al's hampden, poured chilled tulip. - r...   1271703926  2010   \n",
              "1623    stopped dinner wife's birthday. tried tap stuf...   1160669337  2006   \n",
              "2307    label shows nice little picture crowd people g...   1221334733  2008   \n",
              "3862    a-clear copper medium white head. foam didnt l...   1209421195  2008   \n",
              "5051    oh boy, pouring bottle ba badboy. - pours nice...   1278558360  2010   \n",
              "...                                                   ...          ...   ...   \n",
              "522984  best balanced stout ever had. used drink beer ...   1139768440  2006   \n",
              "523328  one poured nice rich dark chocolaty color thin...   1067653318  2003   \n",
              "523511  pours fluid jet black, complete opacity, healt...   1299142945  2011   \n",
              "524159  a- complete black except tiny shred burgundy b...   1207546113  2008   \n",
              "526369  incredible 20 year old bottle (1987) enjoyed b...   1202604848  2008   \n",
              "\n",
              "        polarity_score  \n",
              "841               0.99  \n",
              "1623              0.99  \n",
              "2307              0.99  \n",
              "3862              0.99  \n",
              "5051              0.99  \n",
              "...                ...  \n",
              "522984            0.99  \n",
              "523328            0.99  \n",
              "523511            0.99  \n",
              "524159            0.99  \n",
              "526369            0.99  \n",
              "\n",
              "[474 rows x 15 columns]"
            ]
          },
          "execution_count": 47,
          "metadata": {},
          "output_type": "execute_result"
        }
      ],
      "source": [
        "print(df[df['polarity_score']==0.99].shape)\n",
        "df[df['polarity_score']==0.99]\n",
        "\n"
      ]
    },
    {
      "cell_type": "markdown",
      "metadata": {
        "id": "w_a37S8JO-Ou"
      },
      "source": [
        "###### as the review columns was cleaned for generating polarity score so reloading the csv file"
      ]
    },
    {
      "cell_type": "code",
      "execution_count": null,
      "metadata": {
        "id": "79vnAt5kO-Ou"
      },
      "outputs": [],
      "source": [
        "df1=pd.read_csv('BeerDataScienceProject.csv',encoding='latin-1')"
      ]
    },
    {
      "cell_type": "markdown",
      "metadata": {
        "id": "5CNfgxn3O-Ov"
      },
      "source": [
        "###### to see the similarity among review_text you can go through the following original reviews whose review texts are similar as they both are very happy to taste the beer"
      ]
    },
    {
      "cell_type": "code",
      "execution_count": null,
      "metadata": {
        "id": "_PHCdR31O-Ov",
        "outputId": "1b7baa1c-4e15-4d63-9b79-08f458be2491"
      },
      "outputs": [
        {
          "data": {
            "text/plain": [
              "\"I picked this can up at Al's of Hampden, poured chilled from the can into a tulip. A - a ruby colored ale, excellent clarity w/ 3fingers of light beige cap w/ mix of bubbles sized large and tiny. The lace clings very well and retention is good. The color reminds me of cranberry juice which is attractive to look at in the light S - A sweet toasted grainy odor w/ light fruitiness and berry-like yeast ester w/ a mild hop aroma and slight caramel notes w/ gentle vegetal aroma M - a moderately carbonated brew w/ mild bitterness and gentle sweetness. The texture has light toasted and spice aspects w/ dry finishing medium body overall T - the flavor is relatively biscuity upfront and has subtle pine notes from the hops w/ light creamy caramel malt taste. There is a gently fruity element from the yeast which allows the toasted grain note to carry over and seems to be the focus from midpoint on. the toast or roasted notes are the focus w/ mild herbal and the fruity quality adding contrast. The spice tinges mellow and a very light citrus in the hops comes out when warmer w/ another layer of flavor unfolding. The contrast makes the amber very balanced but seems to lean toward malt ever so slightly w/ strong biscuit taste until the semi-dry finish D - A solid beer in every way, very good representation of the style w/ satisfying drinkability. I would drink this with barbecue or meatloaf. The drinkability is good and I would look for this again I Can guarntee that (wink, wink)\""
            ]
          },
          "execution_count": 49,
          "metadata": {},
          "output_type": "execute_result"
        }
      ],
      "source": [
        "df1.loc[841,'review_text']"
      ]
    },
    {
      "cell_type": "code",
      "execution_count": null,
      "metadata": {
        "id": "7tQy98YHO-Ov",
        "outputId": "7dcd065d-045e-4039-e177-28b02a158df6"
      },
      "outputs": [
        {
          "data": {
            "text/plain": [
              "\"Stopped in for dinner for my wife's Birthday. Tried this on tap with my Stuffed Sirloin and Jalapenos, then took a growler of it home. Appearance: Amber, to dark amber, crystal-clear with an initial bit of off-white head that reduced to a ring. Not much lacing. Smell: scents of malts and cookie-type bread, with hops noticeable. Taste: great malt sweetness and balanced hop profile. Really good, I get the feeling this is a real lager, not an Oktober-Ale that many places bring out. Really nice. Mouthfeel & Drinkability: Great feel, if just a tad low carb from the growler fill. Not all that thin in the mouth, just right. Great Drinkability, and real fresh. Overall: I have had many Oktoberfests this year (one of my fav styles) from Sam Adams, Hacker, Spaten, etc. and this is great. I have to try them side-side-side to see what differences I get, but so far my favorite of the season!!! Great Job, BRBP!\""
            ]
          },
          "execution_count": 50,
          "metadata": {},
          "output_type": "execute_result"
        }
      ],
      "source": [
        "df1.loc[1623,'review_text']"
      ]
    },
    {
      "cell_type": "code",
      "execution_count": null,
      "metadata": {
        "id": "cgq7bW_2O-Ow"
      },
      "outputs": [],
      "source": [
        ""
      ]
    }
  ],
  "metadata": {
    "kernelspec": {
      "display_name": "Python 3",
      "language": "python",
      "name": "python3"
    },
    "language_info": {
      "codemirror_mode": {
        "name": "ipython",
        "version": 3
      },
      "file_extension": ".py",
      "mimetype": "text/x-python",
      "name": "python",
      "nbconvert_exporter": "python",
      "pygments_lexer": "ipython3",
      "version": "3.8.5"
    },
    "colab": {
      "name": "Google Colab Jupyter NB BeerDataScienceProject.ipynb",
      "provenance": []
    }
  },
  "nbformat": 4,
  "nbformat_minor": 0
}